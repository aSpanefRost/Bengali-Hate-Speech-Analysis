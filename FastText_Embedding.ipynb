{
 "cells": [
  {
   "cell_type": "markdown",
   "metadata": {},
   "source": [
    "# Models Used in this Python Notebook:\n",
    "    - FastText+SVM\n",
    "    - FastText+LSTM\n",
    "    - FastText+Bi-LSTM"
   ]
  },
  {
   "cell_type": "code",
   "execution_count": 50,
   "metadata": {},
   "outputs": [],
   "source": [
    "import pandas as pd\n",
    "import numpy as np\n",
    "import re\n",
    "import unicodedata\n",
    "import nltk\n",
    "import matplotlib.pyplot as plt\n",
    "import string\n",
    "import re\n",
    "from sklearn.model_selection import train_test_split\n",
    "from sklearn import svm\n",
    "from sklearn.metrics import classification_report\n",
    "from sklearn.feature_extraction.text import TfidfVectorizer\n",
    "from sklearn.metrics import accuracy_score\n",
    "from sklearn.metrics import precision_score\n",
    "from sklearn.metrics import recall_score\n",
    "from sklearn.metrics import f1_score\n",
    "from sklearn.metrics import roc_auc_score\n",
    "from gensim.models import Word2Vec\n",
    "from gensim.models import FastText\n",
    "from sklearn.feature_extraction.text import CountVectorizer\n",
    "import sys\n",
    "from tensorflow.python.keras.preprocessing.text import Tokenizer\n",
    "from tensorflow.python.keras.preprocessing.sequence import pad_sequences\n",
    "from keras.models import Sequential\n",
    "from keras.layers import Dense, Embedding, LSTM, GRU, Bidirectional\n",
    "from keras.layers.embeddings import Embedding\n",
    "from keras.initializers import Constant\n",
    "from collections import Counter"
   ]
  },
  {
   "cell_type": "markdown",
   "metadata": {},
   "source": [
    "#### Importing Dataset"
   ]
  },
  {
   "cell_type": "code",
   "execution_count": 3,
   "metadata": {},
   "outputs": [],
   "source": [
    "df=pd.read_csv(\"Bengali_hate_speech.csv\")"
   ]
  },
  {
   "cell_type": "markdown",
   "metadata": {},
   "source": [
    "#### removing emojis"
   ]
  },
  {
   "cell_type": "code",
   "execution_count": 4,
   "metadata": {},
   "outputs": [],
   "source": [
    "def emoji(string):\n",
    "    emoji_pattern = re.compile(\"[\"\n",
    "                           u\"\\U0001F600-\\U0001F64F\"  # emoticons\n",
    "                           u\"\\U0001F300-\\U0001F5FF\"  # symbols & pictographs\n",
    "                           u\"\\U0001F680-\\U0001F6FF\"  # transport & map symbols\n",
    "                           u\"\\U0001F1E0-\\U0001F1FF\"  # flags (iOS)\n",
    "                           u\"\\U00002702-\\U000027B0\"\n",
    "                           u\"\\U000024C2-\\U0001F251\"\n",
    "                           \"]+\", flags=re.UNICODE)\n",
    "    return emoji_pattern.sub(r'', string)"
   ]
  },
  {
   "cell_type": "code",
   "execution_count": 5,
   "metadata": {},
   "outputs": [],
   "source": [
    "df['sentence']=df['sentence'].apply(emoji)"
   ]
  },
  {
   "cell_type": "markdown",
   "metadata": {},
   "source": [
    "#### removing punctutaions"
   ]
  },
  {
   "cell_type": "code",
   "execution_count": 6,
   "metadata": {},
   "outputs": [],
   "source": [
    "def punctuation(t1):\n",
    "    whitespace = re.compile(u\"[\\s\\u0020\\u00a0\\u1680\\u180e\\u202f\\u205f\\u3000\\u2000-\\u200a]+\", re.UNICODE)\n",
    "    bangla_fullstop = u\"\\u0964\"\n",
    "    punctSeq   = u\"['\\\"“”‘’]+|[.?!,…]+|[:;]+\"\n",
    "    punc = u\"[(),$%^&*+={}\\[\\]:\\\"|\\'\\~`<>/,¦!?½£¶¼©⅐⅑⅒⅓⅔⅕⅖⅗⅘⅙⅚⅛⅜⅝⅞⅟↉¤¿º;-]+\"\n",
    "    t1= whitespace.sub(\" \",t1).strip()\n",
    "    t1 = re.sub(punctSeq, \" \", t1)\n",
    "    t1 = re.sub(bangla_fullstop, \" \",t1)\n",
    "    t1 = re.sub(punc, \" \", t1)\n",
    "    return t1"
   ]
  },
  {
   "cell_type": "code",
   "execution_count": 7,
   "metadata": {},
   "outputs": [],
   "source": [
    "df['sentence']=df['sentence'].apply(punctuation)"
   ]
  },
  {
   "cell_type": "markdown",
   "metadata": {},
   "source": [
    "#### replacing bengali numbers into english numbers"
   ]
  },
  {
   "cell_type": "code",
   "execution_count": 8,
   "metadata": {},
   "outputs": [],
   "source": [
    "def replace_num(one):\n",
    "    one = one.replace(\"০\",\"0\")\n",
    "    one=one.replace(\"১\",\"1\")\n",
    "    one=one.replace(\"২\",\"2\")\n",
    "    one=one.replace(\"৩\",\"3\")\n",
    "    one=one.replace(\"৪\",\"4\")\n",
    "    one=one.replace(\"৫\",\"5\")\n",
    "    one=one.replace(\"৬\",\"6\")\n",
    "    one=one.replace(\"৭\",\"7\")\n",
    "    one=one.replace(\"৮\",\"8\")\n",
    "    one=one.replace(\"৯\",\"9\")\n",
    "    return one"
   ]
  },
  {
   "cell_type": "code",
   "execution_count": 9,
   "metadata": {},
   "outputs": [],
   "source": [
    "df['sentence']=df['sentence'].apply(replace_num)"
   ]
  },
  {
   "cell_type": "markdown",
   "metadata": {},
   "source": [
    "#### removing non-bengali alphabets & numbers"
   ]
  },
  {
   "cell_type": "code",
   "execution_count": 10,
   "metadata": {},
   "outputs": [],
   "source": [
    "def non_bengali(a):\n",
    "    a = \"\".join(i for i in a if i in [\".\",\"।\"] or 2432 <= ord(i) <= 2559 or ord(i)== 32)\n",
    "    a=re.sub(' +', ' ', a)\n",
    "    return a"
   ]
  },
  {
   "cell_type": "code",
   "execution_count": 11,
   "metadata": {},
   "outputs": [],
   "source": [
    "df['sentence']=df['sentence'].apply(non_bengali)"
   ]
  },
  {
   "cell_type": "markdown",
   "metadata": {},
   "source": [
    "#### Splitting The sentences into words"
   ]
  },
  {
   "cell_type": "code",
   "execution_count": 12,
   "metadata": {},
   "outputs": [],
   "source": [
    "def basic_clean(text):    \n",
    "    words = text.split()\n",
    "    return words"
   ]
  },
  {
   "cell_type": "code",
   "execution_count": 13,
   "metadata": {},
   "outputs": [],
   "source": [
    "values=[]\n",
    "size=df.shape[0]\n",
    "for i in range(0,size):\n",
    "        worddd=basic_clean(df['sentence'][i])\n",
    "        values.append(worddd)     "
   ]
  },
  {
   "cell_type": "code",
   "execution_count": 14,
   "metadata": {},
   "outputs": [
    {
     "data": {
      "text/plain": [
       "['পাপন', 'শালা', 'রে', 'রিমান্ডে', 'নেওয়া', 'দরকার']"
      ]
     },
     "execution_count": 14,
     "metadata": {},
     "output_type": "execute_result"
    }
   ],
   "source": [
    "values[1]"
   ]
  },
  {
   "cell_type": "markdown",
   "metadata": {},
   "source": [
    "### Creating FastText Model with Vector Size of 300"
   ]
  },
  {
   "cell_type": "code",
   "execution_count": 15,
   "metadata": {},
   "outputs": [],
   "source": [
    "model2 = FastText(size=300, window=5, min_count=5,sentences=values,sg=1,workers=8)"
   ]
  },
  {
   "cell_type": "code",
   "execution_count": 16,
   "metadata": {},
   "outputs": [],
   "source": [
    "docs_vectors = pd.DataFrame()\n",
    "i=0\n",
    "for doc in df['sentence']:\n",
    "#     print(i)\n",
    "#     i=i+1\n",
    "    temp = pd.DataFrame()\n",
    "    for word_a in doc.split():\n",
    "        try:\n",
    "            word_vec=model2.wv[word_a]\n",
    "            temp=temp.append(pd.Series(word_vec),ignore_index=True)  \n",
    "        except:\n",
    "            pass\n",
    "    doc_vector = temp.mean()\n",
    "    docs_vectors=docs_vectors.append(doc_vector,ignore_index=True)\n",
    "    \n",
    "docs_vectors['hate'] = df['hate']\n",
    "docs_vectors = docs_vectors.dropna()\n",
    "train_x, test_x, train_y, test_y = train_test_split(docs_vectors.drop('hate', axis = 1),\n",
    "                                                   docs_vectors['hate'],\n",
    "                                                   test_size = 0.2,\n",
    "                                                   random_state = 1)   "
   ]
  },
  {
   "cell_type": "markdown",
   "metadata": {},
   "source": [
    "### SVM Classifier"
   ]
  },
  {
   "cell_type": "code",
   "execution_count": 17,
   "metadata": {},
   "outputs": [
    {
     "name": "stdout",
     "output_type": "stream",
     "text": [
      "Accuracy: 0.808887\n"
     ]
    }
   ],
   "source": [
    "clf = svm.SVC(kernel='linear') \n",
    "clf.fit(train_x, train_y)\n",
    "\n",
    "#Predict the response for test dataset\n",
    "test_pred = clf.predict(test_x)\n",
    "accuracy=accuracy_score(test_y, test_pred)\n",
    "print('Accuracy: %f' % accuracy)"
   ]
  },
  {
   "cell_type": "markdown",
   "metadata": {},
   "source": [
    "### LSTM Model"
   ]
  },
  {
   "cell_type": "code",
   "execution_count": 59,
   "metadata": {},
   "outputs": [],
   "source": [
    "filename=\"embedding_word2vec2.txt\"\n",
    "model2.wv.save_word2vec_format(filename,binary=False)"
   ]
  },
  {
   "cell_type": "code",
   "execution_count": 60,
   "metadata": {},
   "outputs": [],
   "source": [
    "import os\n",
    "\n",
    "embeddings_index={}\n",
    "f=open(os.path.join('','embedding_word2vec2.txt'))\n",
    "for line in f:\n",
    "    value=line.split()\n",
    "    word=value[0]\n",
    "    coefs=np.asarray(value[1:])\n",
    "    embeddings_index[word]=coefs\n",
    "f.close()"
   ]
  },
  {
   "cell_type": "code",
   "execution_count": 38,
   "metadata": {},
   "outputs": [],
   "source": [
    "max_length = max([len(s.split()) for s in df['sentence']])"
   ]
  },
  {
   "cell_type": "code",
   "execution_count": 39,
   "metadata": {},
   "outputs": [
    {
     "name": "stdout",
     "output_type": "stream",
     "text": [
      "Found 47441 unique tokens.\n",
      "shape of review tensor: (30000, 534)\n",
      "shape of sentiment tensor: (30000,)\n"
     ]
    }
   ],
   "source": [
    "#added\n",
    "tokenizer_obj=Tokenizer()\n",
    "tokenizer_obj.fit_on_texts(df['sentence'])\n",
    "sequences = tokenizer_obj.texts_to_sequences(df['sentence'])\n",
    "\n",
    "word_index=tokenizer_obj.word_index\n",
    "print('Found %s unique tokens.'%len(word_index))\n",
    "\n",
    "review_pad=pad_sequences(sequences,maxlen=max_length)\n",
    "sentiment=df['hate'].values\n",
    "print('shape of review tensor:',review_pad.shape)\n",
    "print('shape of sentiment tensor:', sentiment.shape)"
   ]
  },
  {
   "cell_type": "code",
   "execution_count": 40,
   "metadata": {},
   "outputs": [
    {
     "name": "stdout",
     "output_type": "stream",
     "text": [
      "[[3061, 67, 292, 12658], [67, 97, 171, 938, 804, 54], [7013, 338, 301, 167, 172, 68, 363, 15, 50, 7, 75, 32, 124, 76, 13, 1742, 1319, 126, 1942, 14]]\n"
     ]
    }
   ],
   "source": [
    "# Count all the words using Counter Method\n",
    "##\n",
    "words=[]\n",
    "for val in values:\n",
    "    words.extend(val)\n",
    "count_words = Counter(words)\n",
    "\n",
    "total_words = len(words)\n",
    "sorted_words = count_words.most_common(total_words)\n",
    "vocab_to_int = {w:i+1 for i, (w,c) in enumerate(sorted_words)}\n",
    "reviews_int = []\n",
    "for val in values:\n",
    "    r = [vocab_to_int[w] for w in val]\n",
    "    reviews_int.append(r)\n",
    "print (reviews_int[0:3])\n",
    "review_pad=pad_sequences(reviews_int,maxlen=max_length)\n",
    "sentiment=df['hate'].values"
   ]
  },
  {
   "cell_type": "code",
   "execution_count": 41,
   "metadata": {},
   "outputs": [],
   "source": [
    "num_words=47445"
   ]
  },
  {
   "cell_type": "code",
   "execution_count": 44,
   "metadata": {},
   "outputs": [],
   "source": [
    "#changed\n",
    "num_words=len(word_index)+1\n",
    "embedding_matrix=np.zeros((num_words, 300))\n",
    "\n",
    "for word, i in word_index.items():\n",
    "    if i > num_words:\n",
    "        continue\n",
    "    embedding_vector = embeddings_index.get(word)\n",
    "    if embedding_vector is not None:\n",
    "        embedding_matrix[i]= embedding_vector"
   ]
  },
  {
   "cell_type": "code",
   "execution_count": 45,
   "metadata": {},
   "outputs": [],
   "source": [
    "modell=Sequential()\n",
    "embedding_layer = Embedding(num_words, 300, embeddings_initializer=Constant(embedding_matrix),input_length=max_length,trainable=False)\n",
    "modell.add(embedding_layer)\n",
    "modell.add(LSTM(units=100,dropout=0.2,recurrent_dropout=0.2))\n",
    "modell.add(Dense(1,activation='sigmoid'))\n",
    "\n",
    "modell.compile(loss='binary_crossentropy', optimizer='adam',metrics=['accuracy'])"
   ]
  },
  {
   "cell_type": "markdown",
   "metadata": {},
   "source": [
    "### Bi-LSTM Model"
   ]
  },
  {
   "cell_type": "code",
   "execution_count": 53,
   "metadata": {},
   "outputs": [],
   "source": [
    "modelll=Sequential()\n",
    "embedding_layer = Embedding(num_words, 300, embeddings_initializer=Constant(embedding_matrix),input_length=max_length,trainable=False)\n",
    "modelll.add(embedding_layer)\n",
    "modelll.add(Bidirectional(LSTM(units=64,dropout=0.2,recurrent_dropout=0.2)))\n",
    "modelll.add(Dense(1,activation='sigmoid'))\n",
    "\n",
    "modelll.compile(loss='binary_crossentropy', optimizer='adam',metrics=['accuracy'])"
   ]
  },
  {
   "cell_type": "code",
   "execution_count": 46,
   "metadata": {},
   "outputs": [],
   "source": [
    "VALIDATION_SPLIT=0.2\n",
    "indices=np.arange(review_pad.shape[0])\n",
    "np.random.shuffle(indices)\n",
    "sentiment=sentiment[indices]\n",
    "num_validation_samples=int(VALIDATION_SPLIT*review_pad.shape[0])\n",
    "x_trainn_pad=review_pad[:-num_validation_samples]\n",
    "y_trainn=sentiment[:-num_validation_samples]\n",
    "x_testt_pad=review_pad[-num_validation_samples:]\n",
    "y_testt=sentiment[-num_validation_samples:]"
   ]
  },
  {
   "cell_type": "code",
   "execution_count": 47,
   "metadata": {},
   "outputs": [
    {
     "name": "stdout",
     "output_type": "stream",
     "text": [
      "Epoch 1/5\n",
      "375/375 [==============================] - 568s 2s/step - loss: 0.6430 - accuracy: 0.6618\n",
      "Epoch 2/5\n",
      "375/375 [==============================] - 569s 2s/step - loss: 0.6341 - accuracy: 0.6708\n",
      "Epoch 3/5\n",
      "375/375 [==============================] - 567s 2s/step - loss: 0.6359 - accuracy: 0.6674\n",
      "Epoch 4/5\n",
      "375/375 [==============================] - 1255s 3s/step - loss: 0.6370 - accuracy: 0.6653\n",
      "Epoch 5/5\n",
      "375/375 [==============================] - 573s 2s/step - loss: 0.6352 - accuracy: 0.6677\n"
     ]
    },
    {
     "data": {
      "text/plain": [
       "<tensorflow.python.keras.callbacks.History at 0x7fea563c6820>"
      ]
     },
     "execution_count": 47,
     "metadata": {},
     "output_type": "execute_result"
    }
   ],
   "source": [
    "modell.fit(x_trainn_pad,y_trainn,batch_size=64,epochs=5)"
   ]
  },
  {
   "cell_type": "code",
   "execution_count": 48,
   "metadata": {},
   "outputs": [
    {
     "name": "stdout",
     "output_type": "stream",
     "text": [
      "Accuracy: 0.672167\n"
     ]
    }
   ],
   "source": [
    "test_pred = modell.predict(x_testt_pad)\n",
    "accuracy=accuracy_score(y_testt, test_pred.round())\n",
    "print('Accuracy: %f' % accuracy)"
   ]
  },
  {
   "cell_type": "code",
   "execution_count": 54,
   "metadata": {},
   "outputs": [
    {
     "name": "stdout",
     "output_type": "stream",
     "text": [
      "Epoch 1/5\n",
      "375/375 [==============================] - 758s 2s/step - loss: 0.6402 - accuracy: 0.6709\n",
      "Epoch 2/5\n",
      "375/375 [==============================] - 753s 2s/step - loss: 0.6364 - accuracy: 0.6680\n",
      "Epoch 3/5\n",
      "375/375 [==============================] - 813s 2s/step - loss: 0.6350 - accuracy: 0.6686\n",
      "Epoch 4/5\n",
      "375/375 [==============================] - 765s 2s/step - loss: 0.6348 - accuracy: 0.6697\n",
      "Epoch 5/5\n",
      "375/375 [==============================] - 793s 2s/step - loss: 0.6342 - accuracy: 0.6691\n"
     ]
    },
    {
     "data": {
      "text/plain": [
       "<tensorflow.python.keras.callbacks.History at 0x7fea6c0f4160>"
      ]
     },
     "execution_count": 54,
     "metadata": {},
     "output_type": "execute_result"
    }
   ],
   "source": [
    "modelll.fit(x_trainn_pad,y_trainn,batch_size=64,epochs=5)"
   ]
  },
  {
   "cell_type": "code",
   "execution_count": 56,
   "metadata": {},
   "outputs": [
    {
     "name": "stdout",
     "output_type": "stream",
     "text": [
      "Accuracy: 0.672167\n"
     ]
    }
   ],
   "source": [
    "test_pred = modelll.predict(x_testt_pad)\n",
    "accuracy=accuracy_score(y_testt, test_pred.round())\n",
    "print('Accuracy: %f' % accuracy)"
   ]
  },
  {
   "cell_type": "code",
   "execution_count": 57,
   "metadata": {},
   "outputs": [
    {
     "data": {
      "text/plain": [
       "6141     0.076326\n",
       "4021     0.065728\n",
       "5877    -0.044913\n",
       "10869    0.042293\n",
       "8857     0.031603\n",
       "           ...   \n",
       "17300    0.090350\n",
       "5192     0.077148\n",
       "12182   -0.028225\n",
       "235      0.036286\n",
       "29804    0.056819\n",
       "Name: 1, Length: 23943, dtype: float32"
      ]
     },
     "execution_count": 57,
     "metadata": {},
     "output_type": "execute_result"
    }
   ],
   "source": [
    "train_x[1]"
   ]
  },
  {
   "cell_type": "code",
   "execution_count": null,
   "metadata": {},
   "outputs": [],
   "source": []
  }
 ],
 "metadata": {
  "kernelspec": {
   "display_name": "Python 3",
   "language": "python",
   "name": "python3"
  },
  "language_info": {
   "codemirror_mode": {
    "name": "ipython",
    "version": 3
   },
   "file_extension": ".py",
   "mimetype": "text/x-python",
   "name": "python",
   "nbconvert_exporter": "python",
   "pygments_lexer": "ipython3",
   "version": "3.8.5"
  }
 },
 "nbformat": 4,
 "nbformat_minor": 4
}
