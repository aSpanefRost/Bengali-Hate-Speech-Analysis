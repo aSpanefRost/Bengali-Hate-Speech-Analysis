{
 "cells": [
  {
   "cell_type": "markdown",
   "metadata": {},
   "source": [
    "# Models Used in this Python Notebook:\n",
    "    - Word2Vec+SVM\n",
    "    - Word2Vec+LSTM\n",
    "    - Word2Vec+Bi-LSTM"
   ]
  },
  {
   "cell_type": "code",
   "execution_count": 1,
   "metadata": {},
   "outputs": [],
   "source": [
    "import pandas as pd\n",
    "import numpy as np\n",
    "import re\n",
    "import unicodedata\n",
    "import nltk\n",
    "import matplotlib.pyplot as plt\n",
    "import string\n",
    "import re\n",
    "from sklearn.model_selection import train_test_split\n",
    "from sklearn import svm\n",
    "from sklearn.metrics import classification_report\n",
    "from sklearn.feature_extraction.text import TfidfVectorizer\n",
    "from sklearn.metrics import accuracy_score\n",
    "from sklearn.metrics import precision_score\n",
    "from sklearn.metrics import recall_score\n",
    "from sklearn.metrics import f1_score\n",
    "from sklearn.metrics import roc_auc_score\n",
    "from gensim.models import Word2Vec\n",
    "from sklearn.feature_extraction.text import CountVectorizer\n",
    "import sys\n",
    "from tensorflow.python.keras.preprocessing.text import Tokenizer\n",
    "from tensorflow.python.keras.preprocessing.sequence import pad_sequences\n",
    "from keras.models import Sequential\n",
    "from keras.layers import Dense, Embedding, LSTM, GRU\n",
    "from keras.layers.embeddings import Embedding\n",
    "from keras.initializers import Constant\n",
    "from collections import Counter"
   ]
  },
  {
   "cell_type": "markdown",
   "metadata": {},
   "source": [
    "#### Importing Dataset"
   ]
  },
  {
   "cell_type": "code",
   "execution_count": null,
   "metadata": {},
   "outputs": [],
   "source": [
    "df=pd.read_csv(\"Bengali_hate_speech.csv\")"
   ]
  },
  {
   "cell_type": "markdown",
   "metadata": {},
   "source": [
    "#### removing emojis"
   ]
  },
  {
   "cell_type": "code",
   "execution_count": 3,
   "metadata": {},
   "outputs": [],
   "source": [
    "def emoji(string):\n",
    "    emoji_pattern = re.compile(\"[\"\n",
    "                           u\"\\U0001F600-\\U0001F64F\"  # emoticons\n",
    "                           u\"\\U0001F300-\\U0001F5FF\"  # symbols & pictographs\n",
    "                           u\"\\U0001F680-\\U0001F6FF\"  # transport & map symbols\n",
    "                           u\"\\U0001F1E0-\\U0001F1FF\"  # flags (iOS)\n",
    "                           u\"\\U00002702-\\U000027B0\"\n",
    "                           u\"\\U000024C2-\\U0001F251\"\n",
    "                           \"]+\", flags=re.UNICODE)\n",
    "    return emoji_pattern.sub(r'', string)"
   ]
  },
  {
   "cell_type": "code",
   "execution_count": 4,
   "metadata": {},
   "outputs": [],
   "source": [
    "df['sentence']=df['sentence'].apply(emoji)"
   ]
  },
  {
   "cell_type": "markdown",
   "metadata": {},
   "source": [
    "#### removing punctutaions"
   ]
  },
  {
   "cell_type": "code",
   "execution_count": 5,
   "metadata": {},
   "outputs": [],
   "source": [
    "def punctuation(t1):\n",
    "    whitespace = re.compile(u\"[\\s\\u0020\\u00a0\\u1680\\u180e\\u202f\\u205f\\u3000\\u2000-\\u200a]+\", re.UNICODE)\n",
    "    bangla_fullstop = u\"\\u0964\"\n",
    "    punctSeq   = u\"['\\\"“”‘’]+|[.?!,…]+|[:;]+\"\n",
    "    punc = u\"[(),$%^&*+={}\\[\\]:\\\"|\\'\\~`<>/,¦!?½£¶¼©⅐⅑⅒⅓⅔⅕⅖⅗⅘⅙⅚⅛⅜⅝⅞⅟↉¤¿º;-]+\"\n",
    "    t1= whitespace.sub(\" \",t1).strip()\n",
    "    t1 = re.sub(punctSeq, \" \", t1)\n",
    "    t1 = re.sub(bangla_fullstop, \" \",t1)\n",
    "    t1 = re.sub(punc, \" \", t1)\n",
    "    return t1"
   ]
  },
  {
   "cell_type": "code",
   "execution_count": 6,
   "metadata": {},
   "outputs": [],
   "source": [
    "df['sentence']=df['sentence'].apply(punctuation)"
   ]
  },
  {
   "cell_type": "markdown",
   "metadata": {},
   "source": [
    "#### replacing bengali numbers into english numbers"
   ]
  },
  {
   "cell_type": "code",
   "execution_count": 7,
   "metadata": {},
   "outputs": [],
   "source": [
    "def replace_num(one):\n",
    "    one = one.replace(\"০\",\"0\")\n",
    "    one=one.replace(\"১\",\"1\")\n",
    "    one=one.replace(\"২\",\"2\")\n",
    "    one=one.replace(\"৩\",\"3\")\n",
    "    one=one.replace(\"৪\",\"4\")\n",
    "    one=one.replace(\"৫\",\"5\")\n",
    "    one=one.replace(\"৬\",\"6\")\n",
    "    one=one.replace(\"৭\",\"7\")\n",
    "    one=one.replace(\"৮\",\"8\")\n",
    "    one=one.replace(\"৯\",\"9\")\n",
    "    return one"
   ]
  },
  {
   "cell_type": "code",
   "execution_count": 8,
   "metadata": {},
   "outputs": [],
   "source": [
    "df['sentence']=df['sentence'].apply(replace_num)"
   ]
  },
  {
   "cell_type": "markdown",
   "metadata": {},
   "source": [
    "#### removing non-bengali alphabets & numbers"
   ]
  },
  {
   "cell_type": "code",
   "execution_count": 9,
   "metadata": {},
   "outputs": [],
   "source": [
    "def non_bengali(a):\n",
    "    a = \"\".join(i for i in a if i in [\".\",\"।\"] or 2432 <= ord(i) <= 2559 or ord(i)== 32)\n",
    "    a=re.sub(' +', ' ', a)\n",
    "    return a"
   ]
  },
  {
   "cell_type": "code",
   "execution_count": 10,
   "metadata": {},
   "outputs": [],
   "source": [
    "df['sentence']=df['sentence'].apply(non_bengali)"
   ]
  },
  {
   "cell_type": "code",
   "execution_count": 11,
   "metadata": {},
   "outputs": [
    {
     "data": {
      "text/plain": [
       "'আসলে অনেক পাইন হইছে বিসেশ কড়ে আখম ভাই অসাদরণ রাজ সৌইডি পবাশি '"
      ]
     },
     "execution_count": 11,
     "metadata": {},
     "output_type": "execute_result"
    }
   ],
   "source": [
    "df['sentence'][14436]"
   ]
  },
  {
   "cell_type": "code",
   "execution_count": 12,
   "metadata": {},
   "outputs": [],
   "source": [
    "import sys\n",
    "from indicnlp import common\n",
    "\n",
    "# The path to the local git repo for Indic NLP library\n",
    "INDIC_NLP_LIB_HOME=r\"indic_nlp_library\"\n",
    "\n",
    "# The path to the local git repo for Indic NLP Resources\n",
    "INDIC_NLP_RESOURCES=r\"indic_nlp_resources\"\n",
    "\n",
    "# Add library to Python path\n",
    "sys.path.append(r'{}\\src'.format(INDIC_NLP_LIB_HOME))\n",
    "\n",
    "# Set environment variable for resources folder\n",
    "common.set_resources_path(INDIC_NLP_RESOURCES)"
   ]
  },
  {
   "cell_type": "code",
   "execution_count": 13,
   "metadata": {},
   "outputs": [
    {
     "name": "stdout",
     "output_type": "stream",
     "text": [
      "Input String: এই চুতিয়ার বাচ্চাটা উলটা পালটা কথা বলে \n",
      "Tokens: \n",
      "এই\n",
      "চুতিয়ার\n",
      "বাচ্চাটা\n",
      "উলটা\n",
      "পালটা\n",
      "কথা\n",
      "বলে\n"
     ]
    }
   ],
   "source": [
    "from indicnlp.tokenize import indic_tokenize  \n",
    "\n",
    "print('Input String: {}'.format(df['sentence'][150]))\n",
    "print('Tokens: ')\n",
    "for t in indic_tokenize.trivial_tokenize(df['sentence'][150],lang='bn'): \n",
    "    print(t)"
   ]
  },
  {
   "cell_type": "code",
   "execution_count": 14,
   "metadata": {},
   "outputs": [],
   "source": [
    "from indicnlp.normalize.indic_normalize import IndicNormalizerFactory"
   ]
  },
  {
   "cell_type": "markdown",
   "metadata": {},
   "source": [
    "#### Normalizing Using IndicNLP"
   ]
  },
  {
   "cell_type": "code",
   "execution_count": 198,
   "metadata": {},
   "outputs": [
    {
     "name": "stdout",
     "output_type": "stream",
     "text": [
      "পাপনকে জুতার মালা দেয়া জরুর\n",
      "\n",
      "Before normalization\n",
      "0x9aa 0x9be 0x9aa 0x9a8 0x995 0x9c7 0x20 0x99c 0x9c1 0x9a4 0x9be 0x9b0 0x20 0x9ae 0x9be 0x9b2 0x9be 0x20 0x9a6 0x9c7 0x9df 0x9be 0x20 0x99c 0x9b0 0x9c1 0x9b0\n",
      "Length: 27\n",
      "\n",
      "After normalization\n",
      "0x9aa 0x9be 0x9aa 0x9a8 0x995 0x9c7 0x20 0x99c 0x9c1 0x9a4 0x9be 0x9b0 0x20 0x9ae 0x9be 0x9b2 0x9be 0x20 0x9a6 0x9c7 0x9af 0x9bc 0x9be 0x20 0x99c 0x9b0 0x9c1 0x9b0\n",
      "Length: 28\n",
      "পাপনকে জুতার মালা দেয়া জরুর\n"
     ]
    }
   ],
   "source": [
    "input_text=df['sentence'][18]\n",
    "remove_nuktas=False\n",
    "factory=IndicNormalizerFactory()\n",
    "normalizer=factory.get_normalizer(\"bn\")\n",
    "output_text=normalizer.normalize(input_text)\n",
    "\n",
    "print(input_text)\n",
    "print()\n",
    "\n",
    "print('Before normalization')\n",
    "print(' '.join([ hex(ord(c)) for c in input_text ] ))\n",
    "print('Length: {}'.format(len(input_text)))\n",
    "print()    \n",
    "print('After normalization')\n",
    "print(' '.join([ hex(ord(c)) for c in output_text ] ))\n",
    "print('Length: {}'.format(len(output_text)))  \n",
    "print(output_text)"
   ]
  },
  {
   "cell_type": "code",
   "execution_count": null,
   "metadata": {},
   "outputs": [],
   "source": [
    "def basic_clean(text):    \n",
    "    words = text.split()\n",
    "    return words"
   ]
  },
  {
   "cell_type": "markdown",
   "metadata": {},
   "source": [
    "#### Splitting Sentence into Words"
   ]
  },
  {
   "cell_type": "code",
   "execution_count": 42,
   "metadata": {},
   "outputs": [],
   "source": [
    "def basic_clean(text):    \n",
    "    remove_nuktas=False\n",
    "    factory=IndicNormalizerFactory()\n",
    "    normalizer=factory.get_normalizer(\"bn\")\n",
    "    output_text=normalizer.normalize(text)\n",
    "    words=indic_tokenize.trivial_tokenize(text,lang='bn')\n",
    "    return words"
   ]
  },
  {
   "cell_type": "code",
   "execution_count": 43,
   "metadata": {},
   "outputs": [],
   "source": [
    "words = basic_clean(''.join(str(df['sentence'].tolist())))"
   ]
  },
  {
   "cell_type": "code",
   "execution_count": 44,
   "metadata": {},
   "outputs": [],
   "source": [
    "values=[]\n",
    "\n",
    "size=df.shape[0]\n",
    "for i in range(0,size):\n",
    "        worddd=basic_clean(df['sentence'][i])\n",
    "        values.append(worddd)     "
   ]
  },
  {
   "cell_type": "code",
   "execution_count": 18,
   "metadata": {},
   "outputs": [
    {
     "data": {
      "text/plain": [
       "30000"
      ]
     },
     "execution_count": 18,
     "metadata": {},
     "output_type": "execute_result"
    }
   ],
   "source": [
    "size"
   ]
  },
  {
   "cell_type": "code",
   "execution_count": 19,
   "metadata": {},
   "outputs": [
    {
     "name": "stdout",
     "output_type": "stream",
     "text": [
      "['[', \"'\", 'যত্তসব', 'পাপন', 'শালার', 'ফাজলামী', \"'\", ',', \"'\", 'পাপন']\n"
     ]
    }
   ],
   "source": [
    "print(words[:10])"
   ]
  },
  {
   "cell_type": "code",
   "execution_count": 17,
   "metadata": {},
   "outputs": [
    {
     "name": "stdout",
     "output_type": "stream",
     "text": [
      "[['যত্তসব', 'পাপন', 'শালার', 'ফাজলামী'], ['পাপন', 'শালা', 'রে', 'রিমান্ডে', 'নেওয়া', 'দরকার'], ['জিল্লুর', 'রহমান', 'স্যারের', 'ছেলে', 'এতো', 'বড়', 'জারজ', 'হবে', 'এটা', 'একটা', 'দেশের', 'মানুষ', 'কোনো', 'দিন', 'ও', 'ভাবতে', 'পারেনি', 'ধন্যবাদ', 'তাহসিন', 'ভাই'], ['শালা', 'লুচ্চা', 'দেখতে', 'পাঠার', 'মত', 'দেখা', 'যায়'], ['তুই', 'তো', 'শালা', 'গাজা', 'খাইছচ', 'তুর', 'মার', 'হেডায়', 'খেলবে', 'সাকিব'], ['এটা', 'কুন', 'দরনের', 'কেলা', 'ফাইজলামি', 'তাস্কিন', 'রে', 'চর', 'মারা', 'দরকার'], ['পাপন', 'ভর', 'মাদা', 'চোদ', 'পাপনে', 'পদতেক', 'চাই'], ['দুরো', 'সালার', 'পুদ', 'চুপথাক'], ['কুত্তার', 'বাছচা', 'পাপন'], ['বাল', 'ছাল', 'তর', 'সাউয়া'], ['তোর', 'কপালে', 'জুতা', 'মারি', 'শালার', 'পুত'], ['পাপনে', 'পাগল', 'হয়াছে'], ['দেখেছো', 'মাগি', 'না', 'হিজরা', 'বোঝা', 'যাচ্ছে', 'না', 'দেখে', 'মনে', 'হচ্ছে', 'হিজরা'], ['হালার', 'পু', 'পাপন'], ['শালায়', 'এই', 'কারণেই', 'খেলায়', 'ডাব্বা', 'মারে'], ['ব্ব'], ['পাপন', 'হালারে', 'বেট', 'থেকে', 'জুতার', 'মালা', 'দিয়এই', 'বের', 'করে', 'না', 'কেনে', 'ওর', 'কারনে', 'ভাল', 'পিলিআর', 'গুলো', 'খেলা', 'পারেনা'], ['পাপন', 'মাঘির', 'পুতের', 'পেটের', 'মদ্দে', 'দুর্নিতি', 'ভরা'], ['পাপনকে', 'জুতার', 'মালা', 'দেয়া', 'জরুর'], ['আমি', 'হলে', 'তো', 'জারসি', 'পড়া', 'লোকটাকে', 'চুদেদিতাম']]\n"
     ]
    }
   ],
   "source": [
    "print(values[:20])"
   ]
  },
  {
   "cell_type": "code",
   "execution_count": 21,
   "metadata": {},
   "outputs": [
    {
     "name": "stdout",
     "output_type": "stream",
     "text": [
      "['আমি', 'হলে', 'তো', 'জারসি', 'পড়া', 'লোকটাকে', 'চুদেদিতাম']\n"
     ]
    }
   ],
   "source": [
    "print(values[19])"
   ]
  },
  {
   "cell_type": "markdown",
   "metadata": {},
   "source": [
    "#### Creating Word2Vec Model with Vector Size of 300"
   ]
  },
  {
   "cell_type": "code",
   "execution_count": 45,
   "metadata": {},
   "outputs": [],
   "source": [
    "model = Word2Vec(values, size=300, window=5, min_count=5,workers=6,sg=0)"
   ]
  },
  {
   "cell_type": "code",
   "execution_count": 46,
   "metadata": {},
   "outputs": [
    {
     "data": {
      "text/plain": [
       "[('করলে', 0.9925315976142883),\n",
       " ('ভয়েস', 0.9813070297241211),\n",
       " ('সমালোচনা', 0.9794937372207642),\n",
       " ('কারণ', 0.9774117469787598),\n",
       " ('অডিশনে', 0.9771517515182495)]"
      ]
     },
     "execution_count": 46,
     "metadata": {},
     "output_type": "execute_result"
    }
   ],
   "source": [
    "model.wv.most_similar('খেলা', topn=5)"
   ]
  },
  {
   "cell_type": "code",
   "execution_count": 20,
   "metadata": {},
   "outputs": [],
   "source": [
    "docs_vectors = pd.DataFrame()\n",
    "i=0\n",
    "for doc in df['sentence']:\n",
    "    #print(i)\n",
    "    #i=i+1\n",
    "    temp = pd.DataFrame()\n",
    "    for word_a in doc.split():\n",
    "        try:\n",
    "            word_vec=model.wv[word_a]\n",
    "            temp=temp.append(pd.Series(word_vec),ignore_index=True)  \n",
    "        except:\n",
    "            pass\n",
    "    doc_vector = temp.mean()\n",
    "    docs_vectors=docs_vectors.append(doc_vector,ignore_index=True)\n",
    "    \n",
    "docs_vectors['hate'] = df['hate']\n",
    "docs_vectors = docs_vectors.dropna()\n",
    "train_x, test_x, train_y, test_y = train_test_split(docs_vectors.drop('hate', axis = 1),\n",
    "                                                   docs_vectors['hate'],\n",
    "                                                   test_size = 0.2,\n",
    "                                                   random_state = 1)   "
   ]
  },
  {
   "cell_type": "markdown",
   "metadata": {},
   "source": [
    "### SVM Classifier"
   ]
  },
  {
   "cell_type": "code",
   "execution_count": 21,
   "metadata": {},
   "outputs": [
    {
     "name": "stdout",
     "output_type": "stream",
     "text": [
      "Accuracy: 0.768503\n"
     ]
    }
   ],
   "source": [
    "clf = svm.SVC(kernel='linear') \n",
    "clf.fit(train_x, train_y)\n",
    "\n",
    "#Predict the response for test dataset\n",
    "test_pred = clf.predict(test_x)\n",
    "accuracy=accuracy_score(test_y, test_pred)\n",
    "print('Accuracy: %f' % accuracy)"
   ]
  },
  {
   "cell_type": "code",
   "execution_count": 55,
   "metadata": {},
   "outputs": [],
   "source": [
    "filename=\"embedding_word2vec.txt\"\n",
    "model.wv.save_word2vec_format(filename,binary=False)"
   ]
  },
  {
   "cell_type": "code",
   "execution_count": 56,
   "metadata": {},
   "outputs": [],
   "source": [
    "import os\n",
    "\n",
    "embeddings_index={}\n",
    "f=open(os.path.join('','embedding_word2vec.txt'))\n",
    "for line in f:\n",
    "    value=line.split()\n",
    "    word=value[0]\n",
    "    coefs=np.asarray(value[1:])\n",
    "    embeddings_index[word]=coefs\n",
    "f.close()"
   ]
  },
  {
   "cell_type": "code",
   "execution_count": 47,
   "metadata": {},
   "outputs": [],
   "source": [
    "max_length = max([len(s.split()) for s in df['sentence']])"
   ]
  },
  {
   "cell_type": "code",
   "execution_count": 48,
   "metadata": {},
   "outputs": [
    {
     "data": {
      "text/plain": [
       "534"
      ]
     },
     "execution_count": 48,
     "metadata": {},
     "output_type": "execute_result"
    }
   ],
   "source": [
    "max_length"
   ]
  },
  {
   "cell_type": "code",
   "execution_count": 62,
   "metadata": {},
   "outputs": [
    {
     "name": "stdout",
     "output_type": "stream",
     "text": [
      "Found 47441 unique tokens.\n",
      "shape of review tensor: (30000, 534)\n",
      "shape of sentiment tensor: (30000,)\n"
     ]
    }
   ],
   "source": [
    "tokenizer_obj=Tokenizer()\n",
    "tokenizer_obj.fit_on_texts(df['sentence'])\n",
    "sequences = tokenizer_obj.texts_to_sequences(df['sentence'])\n",
    "\n",
    "word_index=tokenizer_obj.word_index\n",
    "print('Found %s unique tokens.'%len(word_index))\n",
    "\n",
    "review_pad=pad_sequences(sequences,maxlen=max_length)\n",
    "sentiment=df['hate'].values\n",
    "print('shape of review tensor:',review_pad.shape)\n",
    "print('shape of sentiment tensor:', sentiment.shape)"
   ]
  },
  {
   "cell_type": "code",
   "execution_count": 45,
   "metadata": {},
   "outputs": [
    {
     "data": {
      "text/plain": [
       "47441"
      ]
     },
     "execution_count": 45,
     "metadata": {},
     "output_type": "execute_result"
    }
   ],
   "source": [
    "len(word_index)"
   ]
  },
  {
   "cell_type": "code",
   "execution_count": 57,
   "metadata": {},
   "outputs": [
    {
     "name": "stdout",
     "output_type": "stream",
     "text": [
      "[[3062, 67, 292, 12659], [67, 97, 171, 939, 804, 54], [7014, 338, 301, 167, 172, 68, 363, 15, 50, 7, 75, 32, 124, 76, 13, 1743, 1320, 126, 1943, 14]]\n"
     ]
    }
   ],
   "source": [
    "# Count all the words using Counter Method\n",
    "##\n",
    "words=[]\n",
    "for val in values:\n",
    "    words.extend(val)\n",
    "count_words = Counter(words)\n",
    "\n",
    "total_words = len(words)\n",
    "sorted_words = count_words.most_common(total_words)\n",
    "vocab_to_int = {w:i+1 for i, (w,c) in enumerate(sorted_words)}\n",
    "reviews_int = []\n",
    "for val in values:\n",
    "    r = [vocab_to_int[w] for w in val]\n",
    "    reviews_int.append(r)\n",
    "print (reviews_int[0:3])\n",
    "review_pad=pad_sequences(reviews_int,maxlen=max_length)\n",
    "sentiment=df['hate'].values"
   ]
  },
  {
   "cell_type": "code",
   "execution_count": 58,
   "metadata": {},
   "outputs": [
    {
     "data": {
      "text/plain": [
       "[('না', 7211),\n",
       " ('এই', 4804),\n",
       " ('করে', 4288),\n",
       " ('আর', 4045),\n",
       " ('কি', 3894),\n",
       " ('কে', 2847),\n",
       " ('একটা', 2254),\n",
       " ('আমি', 2159),\n",
       " ('কথা', 2092),\n",
       " ('আমার', 2071),\n",
       " ('জন্য', 1883),\n",
       " ('যে', 1873),\n",
       " ('ও', 1867),\n",
       " ('ভাই', 1822),\n",
       " ('হবে', 1791),\n",
       " ('তো', 1732),\n",
       " ('সব', 1725),\n",
       " ('আপনার', 1706),\n",
       " ('হয়', 1699),\n",
       " ('ভালো', 1610),\n",
       " ('তার', 1606),\n",
       " ('এর', 1599),\n",
       " ('থেকে', 1572),\n",
       " ('আছে', 1571),\n",
       " ('নাই', 1530),\n",
       " ('কোন', 1529),\n",
       " ('আপনি', 1497),\n",
       " ('অনেক', 1464),\n",
       " ('কিছু', 1425),\n",
       " ('সাথে', 1414),\n",
       " ('তুই', 1398),\n",
       " ('মানুষ', 1387),\n",
       " ('করা', 1354),\n",
       " ('মনে', 1302),\n",
       " ('করতে', 1271),\n",
       " ('চাই', 1224),\n",
       " ('বলে', 1166),\n",
       " ('কেন', 1145),\n",
       " ('দিয়ে', 1136),\n",
       " ('তোর', 1133),\n",
       " ('আমাদের', 1132),\n",
       " ('বাচ্চা', 1127),\n",
       " ('এখন', 1123),\n",
       " ('নিয়ে', 1089),\n",
       " ('স্যার', 1073),\n",
       " ('যদি', 1034),\n",
       " ('আমরা', 1000),\n",
       " ('কিন্তু', 988),\n",
       " ('এক', 986),\n",
       " ('এটা', 975),\n",
       " ('হয়ে', 955),\n",
       " ('এ', 929),\n",
       " ('মত', 925),\n",
       " ('দরকার', 919),\n",
       " ('আল্লাহ', 865),\n",
       " ('ভিডিও', 858),\n",
       " ('টা', 852),\n",
       " ('সে', 848),\n",
       " ('তাদের', 847),\n",
       " ('সবাই', 838),\n",
       " ('তাহলে', 824),\n",
       " ('উচিত', 815),\n",
       " ('হোক', 805),\n",
       " ('এবং', 804),\n",
       " ('তাই', 796),\n",
       " ('জুতা', 778),\n",
       " ('পাপন', 763),\n",
       " ('বড়', 760),\n",
       " ('করার', 756),\n",
       " ('কাছে', 753),\n",
       " ('বিচার', 752),\n",
       " ('খুব', 744),\n",
       " ('এমন', 734),\n",
       " ('আবার', 724),\n",
       " ('দেশের', 722),\n",
       " ('দিন', 694),\n",
       " ('পারে', 692),\n",
       " ('কেউ', 688),\n",
       " ('তারা', 686),\n",
       " ('ছিল', 681),\n",
       " ('ঠিক', 679),\n",
       " ('তুমি', 678),\n",
       " ('মাগি', 669),\n",
       " ('নেই', 666),\n",
       " ('টাকা', 666),\n",
       " ('করছে', 665),\n",
       " ('খারাপ', 659),\n",
       " ('ভাল', 657),\n",
       " ('আগে', 646),\n",
       " ('কুত্তার', 638),\n",
       " ('মতো', 638),\n",
       " ('দেখে', 632),\n",
       " ('একজন', 631),\n",
       " ('যায়', 629),\n",
       " ('যারা', 624),\n",
       " ('নাকি', 623),\n",
       " ('শালা', 617),\n",
       " ('সালা', 607),\n",
       " ('খানকির', 598),\n",
       " ('এত', 591),\n",
       " ('বাংলাদেশ', 591),\n",
       " ('সেই', 584),\n",
       " ('কমেন্ট', 579),\n",
       " ('বাংলাদেশের', 577),\n",
       " ('করি', 565),\n",
       " ('তা', 561),\n",
       " ('সাকিব', 558),\n",
       " ('হচ্ছে', 553),\n",
       " ('হলে', 552),\n",
       " ('দেওয়া', 552),\n",
       " ('আজ', 551),\n",
       " ('মাগির', 546),\n",
       " ('আপনাকে', 537),\n",
       " ('করেন', 534),\n",
       " ('সময়', 533),\n",
       " ('গেছে', 532),\n",
       " ('ওর', 529),\n",
       " ('কত', 520),\n",
       " ('ভন্ড', 516),\n",
       " ('কাজ', 510),\n",
       " ('লাগে', 499),\n",
       " ('ছবি', 495),\n",
       " ('এদের', 495),\n",
       " ('কোনো', 493),\n",
       " ('দেশে', 489),\n",
       " ('ধন্যবাদ', 488),\n",
       " ('কাদের', 485),\n",
       " ('দেশ', 479),\n",
       " ('সুন্দর', 468),\n",
       " ('তখন', 466),\n",
       " ('গুলো', 464),\n",
       " ('হলো', 464),\n",
       " ('নাটক', 464),\n",
       " ('মানুষের', 463),\n",
       " ('পর', 462),\n",
       " ('শুধু', 460),\n",
       " ('এসব', 460),\n",
       " ('দিতে', 457),\n",
       " ('করবে', 450),\n",
       " ('ভাবে', 440),\n",
       " ('পোলা', 437),\n",
       " ('মা', 437),\n",
       " ('বেশি', 436),\n",
       " ('বলতে', 435),\n",
       " ('নিজের', 434),\n",
       " ('তোমার', 433),\n",
       " ('এরা', 431),\n",
       " ('তাকে', 428),\n",
       " ('পাগল', 425),\n",
       " ('করুন', 422),\n",
       " ('যাবে', 418),\n",
       " ('যখন', 414),\n",
       " ('মারা', 412),\n",
       " ('করেছে', 412),\n",
       " ('সামনে', 412),\n",
       " ('দেখতে', 411),\n",
       " ('মিন্নি', 411),\n",
       " ('হয়েছে', 405),\n",
       " ('জাফর', 400),\n",
       " ('ওই', 399),\n",
       " ('বা', 396),\n",
       " ('পরে', 394),\n",
       " ('বাল', 392),\n",
       " ('হতে', 392),\n",
       " ('যা', 391),\n",
       " ('নাস্তিক', 391),\n",
       " ('ছেলে', 389),\n",
       " ('নয়', 389),\n",
       " ('থাকে', 384),\n",
       " ('হা', 383),\n",
       " ('রে', 376),\n",
       " ('এতো', 376),\n",
       " ('মেয়ে', 375),\n",
       " ('দিয়া', 373),\n",
       " ('সেটা', 371),\n",
       " ('তবে', 371),\n",
       " ('আরো', 367),\n",
       " ('একটু', 365),\n",
       " ('তোদের', 362),\n",
       " ('তর', 357),\n",
       " ('গালি', 357),\n",
       " ('বালের', 355),\n",
       " ('ফাঁসি', 352),\n",
       " ('নাম', 351),\n",
       " ('দল', 350),\n",
       " ('একটি', 350),\n",
       " ('হাত', 348),\n",
       " ('কোথায়', 343),\n",
       " ('ধরে', 338),\n",
       " ('দালাল', 336),\n",
       " ('শেষ', 335),\n",
       " ('আপনারা', 332),\n",
       " ('বাবা', 332),\n",
       " ('দের', 331),\n",
       " ('ফাসি', 330),\n",
       " ('দোষ', 329),\n",
       " ('হয়', 328),\n",
       " ('এখানে', 328),\n",
       " ('ছিলো', 322),\n",
       " ('উপর', 321),\n",
       " ('কর', 320),\n",
       " ('কারন', 319),\n",
       " ('করবেন', 317),\n",
       " ('খানকি', 316),\n",
       " ('লোক', 313),\n",
       " ('বিচারক', 313),\n",
       " ('কেনো', 309),\n",
       " ('পড়ে', 309),\n",
       " ('করলে', 305),\n",
       " ('কারণ', 304),\n",
       " ('মেরে', 302),\n",
       " ('ঐ', 300),\n",
       " ('সরকার', 299),\n",
       " ('আসলে', 297),\n",
       " ('কই', 296),\n",
       " ('বের', 295),\n",
       " ('খেলা', 294),\n",
       " ('মাদার', 293),\n",
       " ('মার', 292),\n",
       " ('কুত্তা', 292),\n",
       " ('শাস্তি', 291),\n",
       " ('দেয়া', 290),\n",
       " ('অপু', 287),\n",
       " ('ছি', 286),\n",
       " ('দেন', 285),\n",
       " ('যেন', 284),\n",
       " ('এরকম', 284),\n",
       " ('দুই', 279),\n",
       " ('কিভাবে', 278),\n",
       " ('হল', 278),\n",
       " ('দেখা', 277),\n",
       " ('ওদের', 277),\n",
       " ('বাংলা', 277),\n",
       " ('ডিসি', 276),\n",
       " ('চোর', 274),\n",
       " ('ওরা', 274),\n",
       " ('রাজাকার', 274),\n",
       " ('চলে', 273),\n",
       " ('মিথ্যা', 269),\n",
       " ('মুখে', 269),\n",
       " ('মধ্যে', 268),\n",
       " ('ভুল', 268),\n",
       " ('গুলা', 267),\n",
       " ('ওকে', 264),\n",
       " ('আপনাদের', 264),\n",
       " ('আসে', 262),\n",
       " ('কেমন', 262),\n",
       " ('ক্রিকেট', 261),\n",
       " ('তিনি', 261),\n",
       " ('বাংলাদেশে', 259),\n",
       " ('বাদ', 259),\n",
       " ('কিছুই', 258),\n",
       " ('মাগী', 256),\n",
       " ('সবার', 255),\n",
       " ('কার', 255),\n",
       " ('উচিৎ', 255),\n",
       " ('খবর', 254),\n",
       " ('দিয়ে', 254),\n",
       " ('যাচ্ছে', 253),\n",
       " ('হক', 253),\n",
       " ('মাদারচোদ', 251),\n",
       " ('সন্তান', 251),\n",
       " ('খালেদা', 250),\n",
       " ('মন', 248),\n",
       " ('পাপনের', 246),\n",
       " ('থাকলে', 246),\n",
       " ('দেয়', 246),\n",
       " ('নতুন', 243),\n",
       " ('চুদি', 243),\n",
       " ('উনি', 243),\n",
       " ('চায়', 242),\n",
       " ('ই', 240),\n",
       " ('বলার', 240),\n",
       " ('কষ্ট', 239),\n",
       " ('লেখা', 238),\n",
       " ('দিলে', 237),\n",
       " ('জন', 235),\n",
       " ('ছাড়া', 234),\n",
       " ('ওরে', 234),\n",
       " ('সাহেব', 233),\n",
       " ('জানে', 232),\n",
       " ('দেখি', 232),\n",
       " ('আবাল', 232),\n",
       " ('ইসলাম', 231),\n",
       " ('তোরা', 230),\n",
       " ('বলেন', 229),\n",
       " ('লীগ', 228),\n",
       " ('বার', 227),\n",
       " ('শুরু', 227),\n",
       " ('আল্লাহর', 226),\n",
       " ('মজা', 225),\n",
       " ('শালার', 224),\n",
       " ('দিছে', 223),\n",
       " ('বছর', 223),\n",
       " ('গান', 222),\n",
       " ('রিফাত', 222),\n",
       " ('তোরে', 220),\n",
       " ('মারে', 219),\n",
       " ('রা', 219),\n",
       " ('আরে', 219),\n",
       " ('স্যারের', 218),\n",
       " ('জন্ম', 217),\n",
       " ('থাকবে', 217),\n",
       " ('সত্যি', 215),\n",
       " ('মুভি', 215),\n",
       " ('চেয়ে', 214),\n",
       " ('সত্য', 214),\n",
       " ('রকম', 212),\n",
       " ('বাংলার', 212),\n",
       " ('এখনো', 211),\n",
       " ('দাও', 210),\n",
       " ('মানে', 210),\n",
       " ('বলছে', 208),\n",
       " ('নিয়ে', 208),\n",
       " ('হাজার', 208),\n",
       " ('এইসব', 207),\n",
       " ('ইকবাল', 207),\n",
       " ('হইছে', 206),\n",
       " ('নি', 204),\n",
       " ('লজ্জা', 203),\n",
       " ('করো', 203),\n",
       " ('বিরুদ্ধে', 203),\n",
       " ('হয়ে', 202),\n",
       " ('খান', 201),\n",
       " ('কোটি', 200),\n",
       " ('টাকার', 200),\n",
       " ('করেছেন', 198),\n",
       " ('নামে', 198),\n",
       " ('বমি', 198),\n",
       " ('নষ্ট', 197),\n",
       " ('আমিন', 197),\n",
       " ('সালার', 196),\n",
       " ('ছাগল', 196),\n",
       " ('জানি', 196),\n",
       " ('বাচ্চারা', 196),\n",
       " ('অন্য', 196),\n",
       " ('পুলিশ', 196),\n",
       " ('রহমান', 194),\n",
       " ('হুজুর', 194),\n",
       " ('তে', 193),\n",
       " ('দেখলাম', 192),\n",
       " ('এইটা', 191),\n",
       " ('ফালতু', 190),\n",
       " ('শেখ', 190),\n",
       " ('তুলনা', 189),\n",
       " ('হাতে', 188),\n",
       " ('হতো', 187),\n",
       " ('ছোট', 187),\n",
       " ('কখনো', 186),\n",
       " ('দেখলে', 185),\n",
       " ('নায়ক', 185),\n",
       " ('এসে', 185),\n",
       " ('বলছি', 185),\n",
       " ('সরকারের', 184),\n",
       " ('আশা', 184),\n",
       " ('শিক্ষা', 184),\n",
       " ('লুচ্চা', 183),\n",
       " ('ভোট', 183),\n",
       " ('মানুষকে', 182),\n",
       " ('লাইক', 182),\n",
       " ('পারবে', 182),\n",
       " ('এটাই', 181),\n",
       " ('জারজ', 180),\n",
       " ('পুত', 180),\n",
       " ('জীবন', 180),\n",
       " ('বন্ধ', 180),\n",
       " ('প্লিজ', 180),\n",
       " ('কাউয়া', 180),\n",
       " ('মাথা', 179),\n",
       " ('দেওয়া', 179),\n",
       " ('কুকুর', 178),\n",
       " ('আছি', 178),\n",
       " ('গেল', 177),\n",
       " ('জানোয়ার', 176),\n",
       " ('কুকুরের', 175),\n",
       " ('আছেন', 175),\n",
       " ('আমাকে', 174),\n",
       " ('টি', 174),\n",
       " ('কী', 174),\n",
       " ('বুঝতে', 173),\n",
       " ('শাকিব', 172),\n",
       " ('প্রশ্ন', 172),\n",
       " ('তদন্ত', 172),\n",
       " ('পারেন', 172),\n",
       " ('সঠিক', 171),\n",
       " ('মাঝে', 171),\n",
       " ('লাগলো', 171),\n",
       " ('বিয়ে', 170),\n",
       " ('লাভ', 170),\n",
       " ('হালার', 169),\n",
       " ('বড়', 169),\n",
       " ('ত', 169),\n",
       " ('যার', 168),\n",
       " ('ছিলেন', 168),\n",
       " ('দে', 167),\n",
       " ('দান', 167),\n",
       " ('বসে', 166),\n",
       " ('অপরাধ', 165),\n",
       " ('দিয়েছে', 164),\n",
       " ('পাইলে', 164),\n",
       " ('দুধ', 164),\n",
       " ('মহিলা', 164),\n",
       " ('নাম্বার', 163),\n",
       " ('আসল', 162),\n",
       " ('কারো', 162),\n",
       " ('কারনে', 161),\n",
       " ('প্রতি', 161),\n",
       " ('সবাইকে', 161),\n",
       " ('মুসলিম', 161),\n",
       " ('মারতে', 160),\n",
       " ('হওয়া', 160),\n",
       " ('নিয়া', 160),\n",
       " ('বিশ্বাস', 160),\n",
       " ('ধরনের', 160),\n",
       " ('তোকে', 159),\n",
       " ('সকল', 159),\n",
       " ('চোদা', 159),\n",
       " ('লাগছে', 159),\n",
       " ('হত্যা', 159),\n",
       " ('বলা', 158),\n",
       " ('যান', 158),\n",
       " ('নিজে', 157),\n",
       " ('যায়', 156),\n",
       " ('আইন', 156),\n",
       " ('সারা', 155),\n",
       " ('কম', 155),\n",
       " ('বাজে', 154),\n",
       " ('প্রথম', 154),\n",
       " ('দিবে', 154),\n",
       " ('এভাবে', 154),\n",
       " ('এগুলো', 154),\n",
       " ('সাধারণ', 154),\n",
       " ('থাকতে', 153),\n",
       " ('দেখার', 153),\n",
       " ('পা', 153),\n",
       " ('করছি', 153),\n",
       " ('বউ', 152),\n",
       " ('হিসেবে', 152),\n",
       " ('ঘটনা', 152),\n",
       " ('পড়তে', 152),\n",
       " ('জানেন', 151),\n",
       " ('অবস্থা', 151),\n",
       " ('হালা', 150),\n",
       " ('জাতি', 150),\n",
       " ('খুশি', 150),\n",
       " ('আপু', 148),\n",
       " ('নারী', 148),\n",
       " ('হাসিনা', 148),\n",
       " ('তরে', 148),\n",
       " ('গুলি', 148),\n",
       " ('যত', 147),\n",
       " ('কথায়', 147),\n",
       " ('তুলে', 147),\n",
       " ('চোদ', 146),\n",
       " ('পদত্যাগ', 146),\n",
       " ('আসবে', 146),\n",
       " ('গিয়ে', 146),\n",
       " ('জয়', 146),\n",
       " ('জিয়া', 146),\n",
       " ('সাকিবের', 145),\n",
       " ('শয়তান', 144),\n",
       " ('সাহস', 144),\n",
       " ('পানি', 143),\n",
       " ('মুখ', 143),\n",
       " ('এগিয়ে', 143),\n",
       " ('ভারত', 143),\n",
       " ('দিকে', 143),\n",
       " ('মিন্নির', 143),\n",
       " ('ভারতের', 142),\n",
       " ('শুনে', 142),\n",
       " ('অসাধারণ', 142),\n",
       " ('অভিনয়', 142),\n",
       " ('পাশে', 141),\n",
       " ('যেমন', 141),\n",
       " ('পারি', 141),\n",
       " ('আন্দোলন', 140),\n",
       " ('একদিন', 140),\n",
       " ('বই', 140),\n",
       " ('বাবার', 139),\n",
       " ('বলেছেন', 139),\n",
       " ('র', 139),\n",
       " ('সম্মান', 138),\n",
       " ('ধ্বংস', 137),\n",
       " ('নিজেই', 137),\n",
       " ('মন্ত্রী', 137),\n",
       " ('বাচ্ছা', 136),\n",
       " ('সমস্যা', 136),\n",
       " ('কিনা', 136),\n",
       " ('নামাজ', 136),\n",
       " ('মুক্তিযুদ্ধের', 136),\n",
       " ('সুযোগ', 135),\n",
       " ('যাই', 135),\n",
       " ('চুদা', 135),\n",
       " ('দলের', 135),\n",
       " ('কেটে', 135),\n",
       " ('করলো', 134),\n",
       " ('তারপর', 134),\n",
       " ('এবার', 134),\n",
       " ('পায়', 134),\n",
       " ('হায়রে', 133),\n",
       " ('মদ', 133),\n",
       " ('করুক', 133),\n",
       " ('চিন্তা', 133),\n",
       " ('হয়তো', 133),\n",
       " ('তাহেরি', 133),\n",
       " ('হয়েছে', 132),\n",
       " ('ভাইয়া', 132),\n",
       " ('পোস্ট', 132),\n",
       " ('চেষ্টা', 131),\n",
       " ('পক্ষে', 131),\n",
       " ('দিবেন', 131),\n",
       " ('বুঝা', 130),\n",
       " ('দেওয়ান', 130),\n",
       " ('চ্যানেল', 129),\n",
       " ('গেলে', 129),\n",
       " ('চাকরি', 129),\n",
       " ('ব্যবহার', 128),\n",
       " ('তোমাদের', 128),\n",
       " ('খেয়ে', 128),\n",
       " ('৷', 128),\n",
       " ('প্রিয়', 128),\n",
       " ('কারণে', 127),\n",
       " ('পতিতা', 127),\n",
       " ('চোখে', 127),\n",
       " ('চুরি', 127),\n",
       " ('সাব্বির', 125),\n",
       " ('কান্না', 125),\n",
       " ('ওবায়দুল', 125),\n",
       " ('বেয়াদব', 124),\n",
       " ('ডিম', 124),\n",
       " ('বলবো', 124),\n",
       " ('জানতে', 124),\n",
       " ('নিজেকে', 123),\n",
       " ('করছেন', 123),\n",
       " ('ধরা', 123),\n",
       " ('আওয়ামী', 122),\n",
       " ('ভাষা', 122),\n",
       " ('দিচ্ছে', 122),\n",
       " ('জুতার', 121),\n",
       " ('সেরা', 121),\n",
       " ('অবশ্যই', 121),\n",
       " ('করবো', 121),\n",
       " ('আগের', 121),\n",
       " ('তিন', 120),\n",
       " ('হয়না', 120),\n",
       " ('গরম', 120),\n",
       " ('দোয়া', 120),\n",
       " ('অপমান', 120),\n",
       " ('তোমরা', 120),\n",
       " ('ডিসির', 120),\n",
       " ('খুন', 120),\n",
       " ('রুবেল', 119),\n",
       " ('ভালোবাসা', 119),\n",
       " ('গাজা', 118),\n",
       " ('পাবে', 118),\n",
       " ('কতো', 118),\n",
       " ('বিএনপি', 118),\n",
       " ('গেলো', 118),\n",
       " ('খুবই', 118),\n",
       " ('উনার', 117),\n",
       " ('একবার', 117),\n",
       " ('কেমনে', 117),\n",
       " ('থাকা', 116),\n",
       " ('পিটা', 116),\n",
       " ('বুঝে', 116),\n",
       " ('দাবি', 116),\n",
       " ('হবেনা', 116),\n",
       " ('আজকে', 116),\n",
       " ('ছাত্র', 116),\n",
       " ('ইসলামের', 115),\n",
       " ('বাপ', 115),\n",
       " ('হলেও', 115),\n",
       " ('জাতীয়', 115),\n",
       " ('বলবে', 115),\n",
       " ('সিনেমা', 115),\n",
       " ('ওয়াজ', 115),\n",
       " ('নিউজ', 114),\n",
       " ('মিলে', 114),\n",
       " ('দলে', 114),\n",
       " ('ফিরে', 114),\n",
       " ('ঘরে', 114),\n",
       " ('রেখে', 114),\n",
       " ('মিজানুর', 114),\n",
       " ('করতেছে', 113),\n",
       " ('তোমাকে', 113),\n",
       " ('অনুরোধ', 113),\n",
       " ('সেখানে', 113),\n",
       " ('জানাই', 113),\n",
       " ('বেগম', 113),\n",
       " ('পর্যন্ত', 112),\n",
       " ('রানা', 112),\n",
       " ('যেই', 112),\n",
       " ('হে', 112),\n",
       " ('ছিঃ', 112),\n",
       " ('অপরাধী', 112),\n",
       " ('ঘড়ি', 112),\n",
       " ('তাদেরকে', 111),\n",
       " ('দেখেন', 111),\n",
       " ('নেতা', 111),\n",
       " ('ধর্ম', 111),\n",
       " ('আইনের', 111),\n",
       " ('খালি', 110),\n",
       " ('পারলে', 110),\n",
       " ('চার', 110),\n",
       " ('মাজার', 110),\n",
       " ('তুর', 109),\n",
       " ('কইরা', 109),\n",
       " ('কঠিন', 109),\n",
       " ('জিয়ার', 109),\n",
       " ('পুটকি', 108),\n",
       " ('দেওয়ার', 108),\n",
       " ('লাগবে', 108),\n",
       " ('যাতে', 108),\n",
       " ('কিসের', 108),\n",
       " ('পরিচালক', 107),\n",
       " ('সোনার', 107),\n",
       " ('লীগের', 107),\n",
       " ('কা', 107),\n",
       " ('পারলাম', 107),\n",
       " ('খেলে', 106),\n",
       " ('হাসান', 106),\n",
       " ('হওয়ার', 106),\n",
       " ('মরে', 106),\n",
       " ('অধিকার', 106),\n",
       " ('জাতির', 106),\n",
       " ('বল', 105),\n",
       " ('পাওয়া', 105),\n",
       " ('পেলে', 105),\n",
       " ('প্রকাশ', 105),\n",
       " ('নিতে', 105),\n",
       " ('করতাম', 104),\n",
       " ('জে', 104),\n",
       " ('বি', 104),\n",
       " ('মাথায়', 104),\n",
       " ('জড়িত', 104),\n",
       " ('ফেলে', 103),\n",
       " ('রাজনীতি', 103),\n",
       " ('হয়নি', 102),\n",
       " ('চোরের', 102),\n",
       " ('কয়', 102),\n",
       " ('কুলাঙ্গার', 102),\n",
       " ('আসছে', 102),\n",
       " ('ক্ষমা', 102),\n",
       " ('প্রতিবাদ', 102),\n",
       " ('মাগীর', 101),\n",
       " ('চুদে', 101),\n",
       " ('বিষয়', 101),\n",
       " ('বেঁচে', 101),\n",
       " ('মুশফিক', 100),\n",
       " ('পাই', 100),\n",
       " ('তাও', 100),\n",
       " ('দেই', 100),\n",
       " ('বাচ্চাদের', 100),\n",
       " ('আরও', 100),\n",
       " ('বলি', 100),\n",
       " ('ভিতরে', 100),\n",
       " ('মেয়েদের', 100),\n",
       " ('হিন্দু', 100),\n",
       " ('আগুন', 100),\n",
       " ('পুলা', 98),\n",
       " ('যেখানে', 98),\n",
       " ('যেতে', 98),\n",
       " ('উপরে', 98),\n",
       " ('বাড়ি', 98),\n",
       " ('ফেলা', 98),\n",
       " ('মেয়ের', 97),\n",
       " ('রাস্তায়', 97),\n",
       " ('আল্লাহ্', 97),\n",
       " ('কাদেরের', 97),\n",
       " ('বন্ড', 97),\n",
       " ('জিনিস', 96),\n",
       " ('পিছনে', 96),\n",
       " ('বেচে', 96),\n",
       " ('বক্তা', 96),\n",
       " ('সালারা', 95),\n",
       " ('পথে', 95),\n",
       " ('বাকি', 95),\n",
       " ('মেয়ে', 95),\n",
       " ('ভয়', 95),\n",
       " ('সময়', 94),\n",
       " ('মায়ের', 94),\n",
       " ('পুরো', 94),\n",
       " ('হাসিনার', 94),\n",
       " ('গায়ে', 94),\n",
       " ('সম্পর্কে', 94),\n",
       " ('মাসুদ', 94),\n",
       " ('শান্তি', 94),\n",
       " ('ইনু', 94),\n",
       " ('ছাগলের', 93),\n",
       " ('প্রধান', 93),\n",
       " ('যাও', 93),\n",
       " ('মিনিট', 93),\n",
       " ('একমত', 93),\n",
       " ('ভুলে', 93),\n",
       " ('বলছেন', 93),\n",
       " ('মারার', 92),\n",
       " ('কবে', 92),\n",
       " ('মাল', 92),\n",
       " ('কাছ', 92),\n",
       " ('রাখতে', 92),\n",
       " ('নামের', 92),\n",
       " ('দেখছি', 92),\n",
       " ('হউক', 92),\n",
       " ('হেদায়েত', 92),\n",
       " ('চুদ', 91),\n",
       " ('বলবেন', 91),\n",
       " ('তাতে', 91),\n",
       " ('বেশ্যা', 91),\n",
       " ('আমিও', 91),\n",
       " ('সবচেয়ে', 91),\n",
       " ('ইচ্ছা', 91),\n",
       " ('গজব', 91),\n",
       " ('দিতাম', 90),\n",
       " ('অথচ', 90),\n",
       " ('দিলেন', 90),\n",
       " ('ছবিটা', 90),\n",
       " ('ওনার', 89),\n",
       " ('এতে', 89),\n",
       " ('তৈরি', 89),\n",
       " ('দিলাম', 89),\n",
       " ('থেকেই', 89),\n",
       " ('হিরো', 89),\n",
       " ('যাদের', 89),\n",
       " ('দয়া', 89),\n",
       " ('পারেনা', 88),\n",
       " ('দেখ', 88),\n",
       " ('কেও', 88),\n",
       " ('গরু', 88),\n",
       " ('আরেক', 88),\n",
       " ('করলাম', 88),\n",
       " ('ছেলের', 88),\n",
       " ('থাকার', 88),\n",
       " ('গালে', 87),\n",
       " ('সি', 87),\n",
       " ('এগুলা', 87),\n",
       " ('বিসিবি', 87),\n",
       " ('একদম', 87),\n",
       " ('বাচ্চার', 87),\n",
       " ('বোকা', 87),\n",
       " ('পাবলিক', 87),\n",
       " ('দাম', 87),\n",
       " ('জীবনে', 87),\n",
       " ('জন্যে', 87),\n",
       " ('হত', 87),\n",
       " ('সমাজ', 87),\n",
       " ('সরকারি', 87),\n",
       " ('লাখ', 86),\n",
       " ('সাংবাদিক', 86),\n",
       " ('আই', 86),\n",
       " ('সোনা', 86),\n",
       " ('প্রমাণ', 86),\n",
       " ('পাকিস্তান', 86),\n",
       " ('আওয়ামী', 86),\n",
       " ('দেখেছি', 86),\n",
       " ('নয়ন', 86),\n",
       " ('দেওয়ানবাগী', 86),\n",
       " ('গল্প', 86),\n",
       " ('কোটা', 86),\n",
       " ('পুরুষ', 85),\n",
       " ('সম্ভব', 85),\n",
       " ('প্রধানমন্ত্রী', 85),\n",
       " ('ইচ্ছে', 85),\n",
       " ('মুসলমান', 85),\n",
       " ('ভাব', 84),\n",
       " ('আসলেই', 84),\n",
       " ('নিজেদের', 84),\n",
       " ('বললে', 84),\n",
       " ('পারবেন', 84),\n",
       " ('জানা', 84),\n",
       " ('করলেন', 84),\n",
       " ('চেতনা', 84),\n",
       " ('আলেম', 84),\n",
       " ('থাকবেন', 84),\n",
       " ('মনের', 83),\n",
       " ('মাত্র', 83),\n",
       " ('বছরের', 83),\n",
       " ('নয়', 83),\n",
       " ('রাখা', 83),\n",
       " ('প্রমান', 83),\n",
       " ('আপলোড', 83),\n",
       " ('আওয়ামীলীগ', 83),\n",
       " ('কারা', 83),\n",
       " ('শিক্ষক', 83),\n",
       " ('উকিল', 83),\n",
       " ('বেটা', 82),\n",
       " ('ঢাকা', 82),\n",
       " ('বর্তমান', 82),\n",
       " ('মেয়েরা', 82),\n",
       " ('চান', 82),\n",
       " ('শালারা', 81),\n",
       " ('বোন', 81),\n",
       " ('বলেছে', 81),\n",
       " ('জন্যই', 81),\n",
       " ('রাজাকারের', 81),\n",
       " ('যোগ্যতা', 81),\n",
       " ('জাজ', 81),\n",
       " ('সহ', 81),\n",
       " ('জরিত', 81),\n",
       " ('কাফের', 81),\n",
       " ('আল', 80),\n",
       " ('করব', 80),\n",
       " ('বুঝলাম', 80),\n",
       " ('লক্ষ', 80),\n",
       " ('নেওয়া', 79),\n",
       " ('পোলারা', 79),\n",
       " ('খোর', 79),\n",
       " ('পাপ', 79),\n",
       " ('যেনো', 79),\n",
       " ('প্রচার', 79),\n",
       " ('দিলো', 79),\n",
       " ('খায়', 79),\n",
       " ('ক্ষমতা', 79),\n",
       " ('পছন্দ', 78),\n",
       " ('একে', 78),\n",
       " ('কোথায়', 78),\n",
       " ('জায়গায়', 78),\n",
       " ('বানিয়ে', 78),\n",
       " ('সালে', 78),\n",
       " ('বুঝি', 78),\n",
       " ('খুলে', 78),\n",
       " ('তাহেরী', 78),\n",
       " ('মন্তব্য', 77),\n",
       " ('বলদ', 77),\n",
       " ('লাথি', 77),\n",
       " ('চোখ', 77),\n",
       " ('নিচে', 77),\n",
       " ('পেয়ে', 77),\n",
       " ('কাউকে', 77),\n",
       " ('জ্ঞান', 77),\n",
       " ('শিক্ষিত', 77),\n",
       " ('ভাইয়ের', 77),\n",
       " ('মাদারচুদ', 76),\n",
       " ('মাকে', 76),\n",
       " ('সমান', 76),\n",
       " ('চেহারা', 76),\n",
       " ('ভাইকে', 76),\n",
       " ('জনগণের', 76),\n",
       " ('এসেছে', 76),\n",
       " ('আনা', 76),\n",
       " ('ছাত্রলীগ', 76),\n",
       " ('জনগণ', 75),\n",
       " ('পি', 75),\n",
       " ('বস', 75),\n",
       " ('আগেই', 74),\n",
       " ('চুল', 74),\n",
       " ('ছেড়ে', 74),\n",
       " ('ভরে', 74),\n",
       " ('উঠে', 74),\n",
       " ('দুইটা', 74),\n",
       " ('পুরা', 74),\n",
       " ('মেনে', 74),\n",
       " ('থাকেন', 74),\n",
       " ('ছেলেকে', 74),\n",
       " ('কামনা', 74),\n",
       " ('যুদ্ধ', 74),\n",
       " ('বেশী', 73),\n",
       " ('বাপের', 73),\n",
       " ('সাজা', 73),\n",
       " ('মার্কা', 73),\n",
       " ('সাধারন', 73),\n",
       " ('ইতিহাস', 73),\n",
       " ('চোখের', 73),\n",
       " ('নাস্তিকের', 73),\n",
       " ('শিশু', 73),\n",
       " ('মুক্তিযোদ্ধা', 73),\n",
       " ('আচ্ছা', 72),\n",
       " ('করতো', 72),\n",
       " ('কোথাকার', 72),\n",
       " ('জনগন', 72),\n",
       " ('জেনে', 72),\n",
       " ('রাজনৈতিক', 72),\n",
       " ('অথবা', 72),\n",
       " ('পীর', 72),\n",
       " ('জদি', 71),\n",
       " ('দালালি', 71),\n",
       " ('লেগেছে', 71),\n",
       " ('যাক', 71),\n",
       " ('স্ত্রী', 71),\n",
       " ('সাহেবের', 71),\n",
       " ('', 71),\n",
       " ('ছিলাম', 71),\n",
       " ('মুক্তিযুদ্ধ', 71),\n",
       " ('টাকে', 70),\n",
       " ('করেনা', 70),\n",
       " ('হিসাবে', 70),\n",
       " ('তেমন', 70),\n",
       " ('ইনশাআল্লাহ', 70),\n",
       " ('ভিডিওটা', 70),\n",
       " ('দেখবেন', 70),\n",
       " ('হারাম', 70),\n",
       " ('তারে', 70),\n",
       " ('স্বামী', 70),\n",
       " ('কাজে', 69),\n",
       " ('বুকে', 69),\n",
       " ('এদেরকে', 69),\n",
       " ('মাধ্যমে', 69),\n",
       " ('মিল', 69),\n",
       " ('জামাত', 69),\n",
       " ('তারাই', 69),\n",
       " ('খুনি', 69),\n",
       " ('মতে', 68),\n",
       " ('সালারে', 68),\n",
       " ('সমালোচনা', 68),\n",
       " ('দেয়ার', 68),\n",
       " ('নাহ', 68),\n",
       " ('উপহার', 68),\n",
       " ('নায়িকা', 68),\n",
       " ('মারি', 67),\n",
       " ('জনের', 67),\n",
       " ('ছেলেদের', 67),\n",
       " ('ম্যাচ', 67),\n",
       " ('দিল', 67),\n",
       " ('জায়গা', 67),\n",
       " ('দিনের', 67),\n",
       " ('কথার', 67),\n",
       " ('বয়স', 67),\n",
       " ('আসুন', 67),\n",
       " ('থাকুন', 67),\n",
       " ('বোকাচোদা', 66),\n",
       " ('খেলার', 66),\n",
       " ('ভক্ত', 66),\n",
       " ('করল', 66),\n",
       " ('পড়ার', 66),\n",
       " ('মেয়েটা', 66),\n",
       " ('সানাই', 66),\n",
       " ('মহান', 66),\n",
       " ('হুজুরের', 66),\n",
       " ('বন্ধু', 65),\n",
       " ('থাক', 65),\n",
       " ('জানোয়ারের', 65),\n",
       " ('এতদিন', 65),\n",
       " ('বললেন', 65),\n",
       " ('মারছে', 65),\n",
       " ('অভাব', 65),\n",
       " ('সেক্স', 65),\n",
       " ('হবার', 65),\n",
       " ('হাসতে', 65),\n",
       " ('নির্বাচন', 65),\n",
       " ('রিমান্ডে', 64),\n",
       " ('করিস', 64),\n",
       " ('বাহ', 64),\n",
       " ('সাতে', 64),\n",
       " ('সঙ্গে', 64),\n",
       " ('কথাই', 64),\n",
       " ('আওতায়', 64),\n",
       " ('জোর', 64),\n",
       " ('লিখে', 64),\n",
       " ('ছবির', 64),\n",
       " ('হত্যার', 64),\n",
       " ('সত্যিই', 64),\n",
       " ('গর্তে', 64),\n",
       " ('তালে', 63),\n",
       " ('ভাত', 63),\n",
       " ('বেতন', 63),\n",
       " ('গেছেন', 63),\n",
       " ('শয়তানের', 63),\n",
       " ('পৃথিবীর', 63),\n",
       " ('ঘৃণা', 63),\n",
       " ('থু', 63),\n",
       " ('চুপ', 63),\n",
       " ('দিক', 63),\n",
       " ('কাহিনী', 63),\n",
       " ('তাঁর', 63),\n",
       " ('ঘুম', 63),\n",
       " ('বোঝা', 62),\n",
       " ('দেশটা', 62),\n",
       " ('সমস্ত', 62),\n",
       " ('হালায়', 62),\n",
       " ('বলব', 62),\n",
       " ('তাইলে', 62),\n",
       " ('বাটপার', 62),\n",
       " ('বানাইছে', 62),\n",
       " ('মাফ', 62),\n",
       " ('জারা', 62),\n",
       " ('কাম', 62),\n",
       " ('নেয়', 62),\n",
       " ('পরিবারের', 62),\n",
       " ('ভিতর', 62),\n",
       " ('সন্তানের', 62),\n",
       " ('সুস্থ', 62),\n",
       " ('নাস্তিকদের', 62),\n",
       " ('কপালে', 61),\n",
       " ('মারো', 61),\n",
       " ('বিনোদন', 61),\n",
       " ('শালারে', 61),\n",
       " ('পাগলের', 61),\n",
       " ('জনগনের', 61),\n",
       " ('বানান', 61),\n",
       " ('খাইয়া', 61),\n",
       " ('করেই', 61),\n",
       " ('দিবো', 61),\n",
       " ('নকল', 61),\n",
       " ('পুলিশের', 61),\n",
       " ('তাসকিন', 60),\n",
       " ('বাচ্চাকে', 60),\n",
       " ('বাস', 60),\n",
       " ('গলা', 60),\n",
       " ('মেয়েকে', 60),\n",
       " ('ছেলেরা', 60),\n",
       " ('লোকের', 60),\n",
       " ...]"
      ]
     },
     "execution_count": 58,
     "metadata": {},
     "output_type": "execute_result"
    }
   ],
   "source": [
    "##\n",
    "sorted_words"
   ]
  },
  {
   "cell_type": "code",
   "execution_count": 229,
   "metadata": {},
   "outputs": [
    {
     "data": {
      "text/plain": [
       "47441"
      ]
     },
     "execution_count": 229,
     "metadata": {},
     "output_type": "execute_result"
    }
   ],
   "source": [
    "len(word_index)"
   ]
  },
  {
   "cell_type": "code",
   "execution_count": 35,
   "metadata": {},
   "outputs": [],
   "source": [
    "num_words=47445"
   ]
  },
  {
   "cell_type": "code",
   "execution_count": 67,
   "metadata": {},
   "outputs": [],
   "source": [
    "num_words=len(word_index)+1\n",
    "embedding_matrix=np.zeros((num_words, 300))\n",
    "\n",
    "for word, i in word_index.items():\n",
    "    if i > num_words:\n",
    "        continue\n",
    "    embedding_vector = embeddings_index.get(word)\n",
    "    if embedding_vector is not None:\n",
    "        embedding_matrix[i]= embedding_vector"
   ]
  },
  {
   "cell_type": "code",
   "execution_count": 60,
   "metadata": {},
   "outputs": [],
   "source": [
    "embedding_matrix=np.zeros((len(sorted_words)+1, 300))\n",
    "for word, i in sorted_words:\n",
    "    if i > num_words:\n",
    "        continue\n",
    "    try:    \n",
    "        embedding_vector = model.wv[word]\n",
    "    except:\n",
    "        pass\n",
    "    if embedding_vector is not None:\n",
    "        embedding_matrix[i]= embedding_vector"
   ]
  },
  {
   "cell_type": "code",
   "execution_count": 37,
   "metadata": {},
   "outputs": [
    {
     "data": {
      "text/plain": [
       "47443"
      ]
     },
     "execution_count": 37,
     "metadata": {},
     "output_type": "execute_result"
    }
   ],
   "source": [
    "len(embedding_matrix)"
   ]
  },
  {
   "cell_type": "code",
   "execution_count": 49,
   "metadata": {},
   "outputs": [
    {
     "ename": "NameError",
     "evalue": "name 'embeddings_index' is not defined",
     "output_type": "error",
     "traceback": [
      "\u001b[0;31m---------------------------------------------------------------------------\u001b[0m",
      "\u001b[0;31mNameError\u001b[0m                                 Traceback (most recent call last)",
      "\u001b[0;32m<ipython-input-49-7c031150e2da>\u001b[0m in \u001b[0;36m<module>\u001b[0;34m\u001b[0m\n\u001b[0;32m----> 1\u001b[0;31m \u001b[0membedding_vector\u001b[0m \u001b[0;34m=\u001b[0m \u001b[0membeddings_index\u001b[0m\u001b[0;34m.\u001b[0m\u001b[0mget\u001b[0m\u001b[0;34m(\u001b[0m\u001b[0;34m'না'\u001b[0m\u001b[0;34m)\u001b[0m\u001b[0;34m\u001b[0m\u001b[0;34m\u001b[0m\u001b[0m\n\u001b[0m\u001b[1;32m      2\u001b[0m \u001b[0mlen\u001b[0m\u001b[0;34m(\u001b[0m\u001b[0membedding_vector\u001b[0m\u001b[0;34m)\u001b[0m\u001b[0;34m\u001b[0m\u001b[0;34m\u001b[0m\u001b[0m\n",
      "\u001b[0;31mNameError\u001b[0m: name 'embeddings_index' is not defined"
     ]
    }
   ],
   "source": [
    "embedding_vector = embeddings_index.get('না')\n",
    "len(embedding_vector)"
   ]
  },
  {
   "cell_type": "code",
   "execution_count": 38,
   "metadata": {},
   "outputs": [
    {
     "data": {
      "text/plain": [
       "47443"
      ]
     },
     "execution_count": 38,
     "metadata": {},
     "output_type": "execute_result"
    }
   ],
   "source": [
    "len(embedding_matrix)"
   ]
  },
  {
   "cell_type": "markdown",
   "metadata": {},
   "source": [
    "### LSTM Model"
   ]
  },
  {
   "cell_type": "code",
   "execution_count": 70,
   "metadata": {},
   "outputs": [],
   "source": [
    "modell=Sequential()\n",
    "embedding_layer = Embedding(num_words, 300,input_length=max_length)\n",
    "modell.add(embedding_layer)\n",
    "modell.add(LSTM(units=100,dropout=0.2,recurrent_dropout=0.2))\n",
    "modell.add(Dense(1,activation='sigmoid'))\n",
    "\n",
    "modell.compile(loss='binary_crossentropy', optimizer='adam',metrics=['accuracy'])"
   ]
  },
  {
   "cell_type": "code",
   "execution_count": 68,
   "metadata": {},
   "outputs": [],
   "source": [
    "##\n",
    "modelll=Sequential()\n",
    "embedding_layer = Embedding(num_words, 300, embeddings_initializer=Constant(embedding_matrix),input_length=max_length,trainable=False)\n",
    "modelll.add(embedding_layer)\n",
    "modelll.add(LSTM(units=64,dropout=0.2,recurrent_dropout=0.2))\n",
    "modelll.add(Dense(1,activation='sigmoid'))\n",
    "\n",
    "modelll.compile(loss='binary_crossentropy', optimizer='adam',metrics=['accuracy'])"
   ]
  },
  {
   "cell_type": "code",
   "execution_count": 71,
   "metadata": {},
   "outputs": [],
   "source": [
    "VALIDATION_SPLIT=0.2\n",
    "indices=np.arange(review_pad.shape[0])\n",
    "np.random.shuffle(indices)\n",
    "sentiment=sentiment[indices]\n",
    "num_validation_samples=int(VALIDATION_SPLIT*review_pad.shape[0])\n",
    "x_trainn_pad=review_pad[:-num_validation_samples]\n",
    "y_trainn=sentiment[:-num_validation_samples]\n",
    "x_testt_pad=review_pad[-num_validation_samples:]\n",
    "y_testt=sentiment[-num_validation_samples:]"
   ]
  },
  {
   "cell_type": "code",
   "execution_count": 72,
   "metadata": {
    "scrolled": true
   },
   "outputs": [
    {
     "name": "stdout",
     "output_type": "stream",
     "text": [
      "Epoch 1/5\n",
      "375/375 [==============================] - 1113s 3s/step - loss: 0.6430 - accuracy: 0.6645 - val_loss: 0.6384 - val_accuracy: 0.6650\n",
      "Epoch 2/5\n",
      "375/375 [==============================] - 953s 3s/step - loss: 0.5781 - accuracy: 0.6997 - val_loss: 0.6972 - val_accuracy: 0.6032\n",
      "Epoch 3/5\n",
      "375/375 [==============================] - 934s 2s/step - loss: 0.3507 - accuracy: 0.8501 - val_loss: 0.8999 - val_accuracy: 0.5737\n",
      "Epoch 4/5\n",
      "131/375 [=========>....................] - ETA: 9:40 - loss: 0.2094 - accuracy: 0.9128"
     ]
    },
    {
     "ename": "KeyboardInterrupt",
     "evalue": "",
     "output_type": "error",
     "traceback": [
      "\u001b[0;31m---------------------------------------------------------------------------\u001b[0m",
      "\u001b[0;31mKeyboardInterrupt\u001b[0m                         Traceback (most recent call last)",
      "\u001b[0;32m<ipython-input-72-50ce148d70e8>\u001b[0m in \u001b[0;36m<module>\u001b[0;34m\u001b[0m\n\u001b[0;32m----> 1\u001b[0;31m \u001b[0mmodell\u001b[0m\u001b[0;34m.\u001b[0m\u001b[0mfit\u001b[0m\u001b[0;34m(\u001b[0m\u001b[0mx_trainn_pad\u001b[0m\u001b[0;34m,\u001b[0m\u001b[0my_trainn\u001b[0m\u001b[0;34m,\u001b[0m\u001b[0mvalidation_data\u001b[0m\u001b[0;34m=\u001b[0m\u001b[0;34m(\u001b[0m\u001b[0mx_testt_pad\u001b[0m\u001b[0;34m,\u001b[0m\u001b[0my_testt\u001b[0m\u001b[0;34m)\u001b[0m\u001b[0;34m,\u001b[0m\u001b[0mbatch_size\u001b[0m\u001b[0;34m=\u001b[0m\u001b[0;36m64\u001b[0m\u001b[0;34m,\u001b[0m\u001b[0mepochs\u001b[0m\u001b[0;34m=\u001b[0m\u001b[0;36m5\u001b[0m\u001b[0;34m)\u001b[0m\u001b[0;34m\u001b[0m\u001b[0;34m\u001b[0m\u001b[0m\n\u001b[0m",
      "\u001b[0;32m~/opt/anaconda3/lib/python3.8/site-packages/tensorflow/python/keras/engine/training.py\u001b[0m in \u001b[0;36mfit\u001b[0;34m(self, x, y, batch_size, epochs, verbose, callbacks, validation_split, validation_data, shuffle, class_weight, sample_weight, initial_epoch, steps_per_epoch, validation_steps, validation_batch_size, validation_freq, max_queue_size, workers, use_multiprocessing)\u001b[0m\n\u001b[1;32m   1098\u001b[0m                 _r=1):\n\u001b[1;32m   1099\u001b[0m               \u001b[0mcallbacks\u001b[0m\u001b[0;34m.\u001b[0m\u001b[0mon_train_batch_begin\u001b[0m\u001b[0;34m(\u001b[0m\u001b[0mstep\u001b[0m\u001b[0;34m)\u001b[0m\u001b[0;34m\u001b[0m\u001b[0;34m\u001b[0m\u001b[0m\n\u001b[0;32m-> 1100\u001b[0;31m               \u001b[0mtmp_logs\u001b[0m \u001b[0;34m=\u001b[0m \u001b[0mself\u001b[0m\u001b[0;34m.\u001b[0m\u001b[0mtrain_function\u001b[0m\u001b[0;34m(\u001b[0m\u001b[0miterator\u001b[0m\u001b[0;34m)\u001b[0m\u001b[0;34m\u001b[0m\u001b[0;34m\u001b[0m\u001b[0m\n\u001b[0m\u001b[1;32m   1101\u001b[0m               \u001b[0;32mif\u001b[0m \u001b[0mdata_handler\u001b[0m\u001b[0;34m.\u001b[0m\u001b[0mshould_sync\u001b[0m\u001b[0;34m:\u001b[0m\u001b[0;34m\u001b[0m\u001b[0;34m\u001b[0m\u001b[0m\n\u001b[1;32m   1102\u001b[0m                 \u001b[0mcontext\u001b[0m\u001b[0;34m.\u001b[0m\u001b[0masync_wait\u001b[0m\u001b[0;34m(\u001b[0m\u001b[0;34m)\u001b[0m\u001b[0;34m\u001b[0m\u001b[0;34m\u001b[0m\u001b[0m\n",
      "\u001b[0;32m~/opt/anaconda3/lib/python3.8/site-packages/tensorflow/python/eager/def_function.py\u001b[0m in \u001b[0;36m__call__\u001b[0;34m(self, *args, **kwds)\u001b[0m\n\u001b[1;32m    826\u001b[0m     \u001b[0mtracing_count\u001b[0m \u001b[0;34m=\u001b[0m \u001b[0mself\u001b[0m\u001b[0;34m.\u001b[0m\u001b[0mexperimental_get_tracing_count\u001b[0m\u001b[0;34m(\u001b[0m\u001b[0;34m)\u001b[0m\u001b[0;34m\u001b[0m\u001b[0;34m\u001b[0m\u001b[0m\n\u001b[1;32m    827\u001b[0m     \u001b[0;32mwith\u001b[0m \u001b[0mtrace\u001b[0m\u001b[0;34m.\u001b[0m\u001b[0mTrace\u001b[0m\u001b[0;34m(\u001b[0m\u001b[0mself\u001b[0m\u001b[0;34m.\u001b[0m\u001b[0m_name\u001b[0m\u001b[0;34m)\u001b[0m \u001b[0;32mas\u001b[0m \u001b[0mtm\u001b[0m\u001b[0;34m:\u001b[0m\u001b[0;34m\u001b[0m\u001b[0;34m\u001b[0m\u001b[0m\n\u001b[0;32m--> 828\u001b[0;31m       \u001b[0mresult\u001b[0m \u001b[0;34m=\u001b[0m \u001b[0mself\u001b[0m\u001b[0;34m.\u001b[0m\u001b[0m_call\u001b[0m\u001b[0;34m(\u001b[0m\u001b[0;34m*\u001b[0m\u001b[0margs\u001b[0m\u001b[0;34m,\u001b[0m \u001b[0;34m**\u001b[0m\u001b[0mkwds\u001b[0m\u001b[0;34m)\u001b[0m\u001b[0;34m\u001b[0m\u001b[0;34m\u001b[0m\u001b[0m\n\u001b[0m\u001b[1;32m    829\u001b[0m       \u001b[0mcompiler\u001b[0m \u001b[0;34m=\u001b[0m \u001b[0;34m\"xla\"\u001b[0m \u001b[0;32mif\u001b[0m \u001b[0mself\u001b[0m\u001b[0;34m.\u001b[0m\u001b[0m_experimental_compile\u001b[0m \u001b[0;32melse\u001b[0m \u001b[0;34m\"nonXla\"\u001b[0m\u001b[0;34m\u001b[0m\u001b[0;34m\u001b[0m\u001b[0m\n\u001b[1;32m    830\u001b[0m       \u001b[0mnew_tracing_count\u001b[0m \u001b[0;34m=\u001b[0m \u001b[0mself\u001b[0m\u001b[0;34m.\u001b[0m\u001b[0mexperimental_get_tracing_count\u001b[0m\u001b[0;34m(\u001b[0m\u001b[0;34m)\u001b[0m\u001b[0;34m\u001b[0m\u001b[0;34m\u001b[0m\u001b[0m\n",
      "\u001b[0;32m~/opt/anaconda3/lib/python3.8/site-packages/tensorflow/python/eager/def_function.py\u001b[0m in \u001b[0;36m_call\u001b[0;34m(self, *args, **kwds)\u001b[0m\n\u001b[1;32m    853\u001b[0m       \u001b[0;31m# In this case we have created variables on the first call, so we run the\u001b[0m\u001b[0;34m\u001b[0m\u001b[0;34m\u001b[0m\u001b[0;34m\u001b[0m\u001b[0m\n\u001b[1;32m    854\u001b[0m       \u001b[0;31m# defunned version which is guaranteed to never create variables.\u001b[0m\u001b[0;34m\u001b[0m\u001b[0;34m\u001b[0m\u001b[0;34m\u001b[0m\u001b[0m\n\u001b[0;32m--> 855\u001b[0;31m       \u001b[0;32mreturn\u001b[0m \u001b[0mself\u001b[0m\u001b[0;34m.\u001b[0m\u001b[0m_stateless_fn\u001b[0m\u001b[0;34m(\u001b[0m\u001b[0;34m*\u001b[0m\u001b[0margs\u001b[0m\u001b[0;34m,\u001b[0m \u001b[0;34m**\u001b[0m\u001b[0mkwds\u001b[0m\u001b[0;34m)\u001b[0m  \u001b[0;31m# pylint: disable=not-callable\u001b[0m\u001b[0;34m\u001b[0m\u001b[0;34m\u001b[0m\u001b[0m\n\u001b[0m\u001b[1;32m    856\u001b[0m     \u001b[0;32melif\u001b[0m \u001b[0mself\u001b[0m\u001b[0;34m.\u001b[0m\u001b[0m_stateful_fn\u001b[0m \u001b[0;32mis\u001b[0m \u001b[0;32mnot\u001b[0m \u001b[0;32mNone\u001b[0m\u001b[0;34m:\u001b[0m\u001b[0;34m\u001b[0m\u001b[0;34m\u001b[0m\u001b[0m\n\u001b[1;32m    857\u001b[0m       \u001b[0;31m# Release the lock early so that multiple threads can perform the call\u001b[0m\u001b[0;34m\u001b[0m\u001b[0;34m\u001b[0m\u001b[0;34m\u001b[0m\u001b[0m\n",
      "\u001b[0;32m~/opt/anaconda3/lib/python3.8/site-packages/tensorflow/python/eager/function.py\u001b[0m in \u001b[0;36m__call__\u001b[0;34m(self, *args, **kwargs)\u001b[0m\n\u001b[1;32m   2940\u001b[0m       (graph_function,\n\u001b[1;32m   2941\u001b[0m        filtered_flat_args) = self._maybe_define_function(args, kwargs)\n\u001b[0;32m-> 2942\u001b[0;31m     return graph_function._call_flat(\n\u001b[0m\u001b[1;32m   2943\u001b[0m         filtered_flat_args, captured_inputs=graph_function.captured_inputs)  # pylint: disable=protected-access\n\u001b[1;32m   2944\u001b[0m \u001b[0;34m\u001b[0m\u001b[0m\n",
      "\u001b[0;32m~/opt/anaconda3/lib/python3.8/site-packages/tensorflow/python/eager/function.py\u001b[0m in \u001b[0;36m_call_flat\u001b[0;34m(self, args, captured_inputs, cancellation_manager)\u001b[0m\n\u001b[1;32m   1916\u001b[0m         and executing_eagerly):\n\u001b[1;32m   1917\u001b[0m       \u001b[0;31m# No tape is watching; skip to running the function.\u001b[0m\u001b[0;34m\u001b[0m\u001b[0;34m\u001b[0m\u001b[0;34m\u001b[0m\u001b[0m\n\u001b[0;32m-> 1918\u001b[0;31m       return self._build_call_outputs(self._inference_function.call(\n\u001b[0m\u001b[1;32m   1919\u001b[0m           ctx, args, cancellation_manager=cancellation_manager))\n\u001b[1;32m   1920\u001b[0m     forward_backward = self._select_forward_and_backward_functions(\n",
      "\u001b[0;32m~/opt/anaconda3/lib/python3.8/site-packages/tensorflow/python/eager/function.py\u001b[0m in \u001b[0;36mcall\u001b[0;34m(self, ctx, args, cancellation_manager)\u001b[0m\n\u001b[1;32m    553\u001b[0m       \u001b[0;32mwith\u001b[0m \u001b[0m_InterpolateFunctionError\u001b[0m\u001b[0;34m(\u001b[0m\u001b[0mself\u001b[0m\u001b[0;34m)\u001b[0m\u001b[0;34m:\u001b[0m\u001b[0;34m\u001b[0m\u001b[0;34m\u001b[0m\u001b[0m\n\u001b[1;32m    554\u001b[0m         \u001b[0;32mif\u001b[0m \u001b[0mcancellation_manager\u001b[0m \u001b[0;32mis\u001b[0m \u001b[0;32mNone\u001b[0m\u001b[0;34m:\u001b[0m\u001b[0;34m\u001b[0m\u001b[0;34m\u001b[0m\u001b[0m\n\u001b[0;32m--> 555\u001b[0;31m           outputs = execute.execute(\n\u001b[0m\u001b[1;32m    556\u001b[0m               \u001b[0mstr\u001b[0m\u001b[0;34m(\u001b[0m\u001b[0mself\u001b[0m\u001b[0;34m.\u001b[0m\u001b[0msignature\u001b[0m\u001b[0;34m.\u001b[0m\u001b[0mname\u001b[0m\u001b[0;34m)\u001b[0m\u001b[0;34m,\u001b[0m\u001b[0;34m\u001b[0m\u001b[0;34m\u001b[0m\u001b[0m\n\u001b[1;32m    557\u001b[0m               \u001b[0mnum_outputs\u001b[0m\u001b[0;34m=\u001b[0m\u001b[0mself\u001b[0m\u001b[0;34m.\u001b[0m\u001b[0m_num_outputs\u001b[0m\u001b[0;34m,\u001b[0m\u001b[0;34m\u001b[0m\u001b[0;34m\u001b[0m\u001b[0m\n",
      "\u001b[0;32m~/opt/anaconda3/lib/python3.8/site-packages/tensorflow/python/eager/execute.py\u001b[0m in \u001b[0;36mquick_execute\u001b[0;34m(op_name, num_outputs, inputs, attrs, ctx, name)\u001b[0m\n\u001b[1;32m     57\u001b[0m   \u001b[0;32mtry\u001b[0m\u001b[0;34m:\u001b[0m\u001b[0;34m\u001b[0m\u001b[0;34m\u001b[0m\u001b[0m\n\u001b[1;32m     58\u001b[0m     \u001b[0mctx\u001b[0m\u001b[0;34m.\u001b[0m\u001b[0mensure_initialized\u001b[0m\u001b[0;34m(\u001b[0m\u001b[0;34m)\u001b[0m\u001b[0;34m\u001b[0m\u001b[0;34m\u001b[0m\u001b[0m\n\u001b[0;32m---> 59\u001b[0;31m     tensors = pywrap_tfe.TFE_Py_Execute(ctx._handle, device_name, op_name,\n\u001b[0m\u001b[1;32m     60\u001b[0m                                         inputs, attrs, num_outputs)\n\u001b[1;32m     61\u001b[0m   \u001b[0;32mexcept\u001b[0m \u001b[0mcore\u001b[0m\u001b[0;34m.\u001b[0m\u001b[0m_NotOkStatusException\u001b[0m \u001b[0;32mas\u001b[0m \u001b[0me\u001b[0m\u001b[0;34m:\u001b[0m\u001b[0;34m\u001b[0m\u001b[0;34m\u001b[0m\u001b[0m\n",
      "\u001b[0;31mKeyboardInterrupt\u001b[0m: "
     ]
    }
   ],
   "source": [
    "modell.fit(x_trainn_pad,y_trainn,validation_data=(x_testt_pad,y_testt),batch_size=64,epochs=5)"
   ]
  },
  {
   "cell_type": "code",
   "execution_count": 281,
   "metadata": {},
   "outputs": [
    {
     "name": "stdout",
     "output_type": "stream",
     "text": [
      "Accuracy: 0.673500\n"
     ]
    }
   ],
   "source": [
    "test_pred = modelll.predict(x_testt_pad)\n",
    "accuracy=accuracy_score(y_testt, test_pred.round())\n",
    "print('Accuracy: %f' % accuracy)"
   ]
  },
  {
   "cell_type": "code",
   "execution_count": 62,
   "metadata": {},
   "outputs": [
    {
     "name": "stdout",
     "output_type": "stream",
     "text": [
      "Accuracy: 0.559000\n"
     ]
    }
   ],
   "source": [
    "test_pred = modell.predict(x_testt_pad)\n",
    "accuracy=accuracy_score(y_testt, test_pred.round())\n",
    "print('Accuracy: %f' % accuracy)"
   ]
  },
  {
   "cell_type": "markdown",
   "metadata": {},
   "source": [
    "### Bi-LSTM Model"
   ]
  },
  {
   "cell_type": "code",
   "execution_count": 74,
   "metadata": {},
   "outputs": [],
   "source": [
    "from keras.layers import Dense, Embedding, LSTM, GRU, Bidirectional"
   ]
  },
  {
   "cell_type": "code",
   "execution_count": 75,
   "metadata": {},
   "outputs": [],
   "source": [
    "modelll=Sequential()\n",
    "embedding_layer = Embedding(num_words, 300, embeddings_initializer=Constant(embedding_matrix),input_length=max_length,trainable=False)\n",
    "modelll.add(embedding_layer)\n",
    "modelll.add(Bidirectional(LSTM(units=64,dropout=0.2,recurrent_dropout=0.2)))\n",
    "modelll.add(Dense(1,activation='sigmoid'))\n",
    "\n",
    "modelll.compile(loss='binary_crossentropy', optimizer='adam',metrics=['accuracy'])"
   ]
  },
  {
   "cell_type": "code",
   "execution_count": 76,
   "metadata": {},
   "outputs": [
    {
     "name": "stdout",
     "output_type": "stream",
     "text": [
      "Epoch 1/5\n",
      "375/375 [==============================] - 846s 2s/step - loss: 0.6400 - accuracy: 0.6686 - val_loss: 0.6381 - val_accuracy: 0.6650\n",
      "Epoch 2/5\n",
      "  1/375 [..............................] - ETA: 12:31 - loss: 0.5743 - accuracy: 0.7656"
     ]
    },
    {
     "ename": "KeyboardInterrupt",
     "evalue": "",
     "output_type": "error",
     "traceback": [
      "\u001b[0;31m---------------------------------------------------------------------------\u001b[0m",
      "\u001b[0;31mKeyboardInterrupt\u001b[0m                         Traceback (most recent call last)",
      "\u001b[0;32m<ipython-input-76-26d58b940500>\u001b[0m in \u001b[0;36m<module>\u001b[0;34m\u001b[0m\n\u001b[0;32m----> 1\u001b[0;31m \u001b[0mmodelll\u001b[0m\u001b[0;34m.\u001b[0m\u001b[0mfit\u001b[0m\u001b[0;34m(\u001b[0m\u001b[0mx_trainn_pad\u001b[0m\u001b[0;34m,\u001b[0m\u001b[0my_trainn\u001b[0m\u001b[0;34m,\u001b[0m\u001b[0mvalidation_data\u001b[0m\u001b[0;34m=\u001b[0m\u001b[0;34m(\u001b[0m\u001b[0mx_testt_pad\u001b[0m\u001b[0;34m,\u001b[0m\u001b[0my_testt\u001b[0m\u001b[0;34m)\u001b[0m\u001b[0;34m,\u001b[0m\u001b[0mbatch_size\u001b[0m\u001b[0;34m=\u001b[0m\u001b[0;36m64\u001b[0m\u001b[0;34m,\u001b[0m\u001b[0mepochs\u001b[0m\u001b[0;34m=\u001b[0m\u001b[0;36m5\u001b[0m\u001b[0;34m)\u001b[0m\u001b[0;34m\u001b[0m\u001b[0;34m\u001b[0m\u001b[0m\n\u001b[0m",
      "\u001b[0;32m~/opt/anaconda3/lib/python3.8/site-packages/tensorflow/python/keras/engine/training.py\u001b[0m in \u001b[0;36mfit\u001b[0;34m(self, x, y, batch_size, epochs, verbose, callbacks, validation_split, validation_data, shuffle, class_weight, sample_weight, initial_epoch, steps_per_epoch, validation_steps, validation_batch_size, validation_freq, max_queue_size, workers, use_multiprocessing)\u001b[0m\n\u001b[1;32m   1098\u001b[0m                 _r=1):\n\u001b[1;32m   1099\u001b[0m               \u001b[0mcallbacks\u001b[0m\u001b[0;34m.\u001b[0m\u001b[0mon_train_batch_begin\u001b[0m\u001b[0;34m(\u001b[0m\u001b[0mstep\u001b[0m\u001b[0;34m)\u001b[0m\u001b[0;34m\u001b[0m\u001b[0;34m\u001b[0m\u001b[0m\n\u001b[0;32m-> 1100\u001b[0;31m               \u001b[0mtmp_logs\u001b[0m \u001b[0;34m=\u001b[0m \u001b[0mself\u001b[0m\u001b[0;34m.\u001b[0m\u001b[0mtrain_function\u001b[0m\u001b[0;34m(\u001b[0m\u001b[0miterator\u001b[0m\u001b[0;34m)\u001b[0m\u001b[0;34m\u001b[0m\u001b[0;34m\u001b[0m\u001b[0m\n\u001b[0m\u001b[1;32m   1101\u001b[0m               \u001b[0;32mif\u001b[0m \u001b[0mdata_handler\u001b[0m\u001b[0;34m.\u001b[0m\u001b[0mshould_sync\u001b[0m\u001b[0;34m:\u001b[0m\u001b[0;34m\u001b[0m\u001b[0;34m\u001b[0m\u001b[0m\n\u001b[1;32m   1102\u001b[0m                 \u001b[0mcontext\u001b[0m\u001b[0;34m.\u001b[0m\u001b[0masync_wait\u001b[0m\u001b[0;34m(\u001b[0m\u001b[0;34m)\u001b[0m\u001b[0;34m\u001b[0m\u001b[0;34m\u001b[0m\u001b[0m\n",
      "\u001b[0;32m~/opt/anaconda3/lib/python3.8/site-packages/tensorflow/python/eager/def_function.py\u001b[0m in \u001b[0;36m__call__\u001b[0;34m(self, *args, **kwds)\u001b[0m\n\u001b[1;32m    826\u001b[0m     \u001b[0mtracing_count\u001b[0m \u001b[0;34m=\u001b[0m \u001b[0mself\u001b[0m\u001b[0;34m.\u001b[0m\u001b[0mexperimental_get_tracing_count\u001b[0m\u001b[0;34m(\u001b[0m\u001b[0;34m)\u001b[0m\u001b[0;34m\u001b[0m\u001b[0;34m\u001b[0m\u001b[0m\n\u001b[1;32m    827\u001b[0m     \u001b[0;32mwith\u001b[0m \u001b[0mtrace\u001b[0m\u001b[0;34m.\u001b[0m\u001b[0mTrace\u001b[0m\u001b[0;34m(\u001b[0m\u001b[0mself\u001b[0m\u001b[0;34m.\u001b[0m\u001b[0m_name\u001b[0m\u001b[0;34m)\u001b[0m \u001b[0;32mas\u001b[0m \u001b[0mtm\u001b[0m\u001b[0;34m:\u001b[0m\u001b[0;34m\u001b[0m\u001b[0;34m\u001b[0m\u001b[0m\n\u001b[0;32m--> 828\u001b[0;31m       \u001b[0mresult\u001b[0m \u001b[0;34m=\u001b[0m \u001b[0mself\u001b[0m\u001b[0;34m.\u001b[0m\u001b[0m_call\u001b[0m\u001b[0;34m(\u001b[0m\u001b[0;34m*\u001b[0m\u001b[0margs\u001b[0m\u001b[0;34m,\u001b[0m \u001b[0;34m**\u001b[0m\u001b[0mkwds\u001b[0m\u001b[0;34m)\u001b[0m\u001b[0;34m\u001b[0m\u001b[0;34m\u001b[0m\u001b[0m\n\u001b[0m\u001b[1;32m    829\u001b[0m       \u001b[0mcompiler\u001b[0m \u001b[0;34m=\u001b[0m \u001b[0;34m\"xla\"\u001b[0m \u001b[0;32mif\u001b[0m \u001b[0mself\u001b[0m\u001b[0;34m.\u001b[0m\u001b[0m_experimental_compile\u001b[0m \u001b[0;32melse\u001b[0m \u001b[0;34m\"nonXla\"\u001b[0m\u001b[0;34m\u001b[0m\u001b[0;34m\u001b[0m\u001b[0m\n\u001b[1;32m    830\u001b[0m       \u001b[0mnew_tracing_count\u001b[0m \u001b[0;34m=\u001b[0m \u001b[0mself\u001b[0m\u001b[0;34m.\u001b[0m\u001b[0mexperimental_get_tracing_count\u001b[0m\u001b[0;34m(\u001b[0m\u001b[0;34m)\u001b[0m\u001b[0;34m\u001b[0m\u001b[0;34m\u001b[0m\u001b[0m\n",
      "\u001b[0;32m~/opt/anaconda3/lib/python3.8/site-packages/tensorflow/python/eager/def_function.py\u001b[0m in \u001b[0;36m_call\u001b[0;34m(self, *args, **kwds)\u001b[0m\n\u001b[1;32m    853\u001b[0m       \u001b[0;31m# In this case we have created variables on the first call, so we run the\u001b[0m\u001b[0;34m\u001b[0m\u001b[0;34m\u001b[0m\u001b[0;34m\u001b[0m\u001b[0m\n\u001b[1;32m    854\u001b[0m       \u001b[0;31m# defunned version which is guaranteed to never create variables.\u001b[0m\u001b[0;34m\u001b[0m\u001b[0;34m\u001b[0m\u001b[0;34m\u001b[0m\u001b[0m\n\u001b[0;32m--> 855\u001b[0;31m       \u001b[0;32mreturn\u001b[0m \u001b[0mself\u001b[0m\u001b[0;34m.\u001b[0m\u001b[0m_stateless_fn\u001b[0m\u001b[0;34m(\u001b[0m\u001b[0;34m*\u001b[0m\u001b[0margs\u001b[0m\u001b[0;34m,\u001b[0m \u001b[0;34m**\u001b[0m\u001b[0mkwds\u001b[0m\u001b[0;34m)\u001b[0m  \u001b[0;31m# pylint: disable=not-callable\u001b[0m\u001b[0;34m\u001b[0m\u001b[0;34m\u001b[0m\u001b[0m\n\u001b[0m\u001b[1;32m    856\u001b[0m     \u001b[0;32melif\u001b[0m \u001b[0mself\u001b[0m\u001b[0;34m.\u001b[0m\u001b[0m_stateful_fn\u001b[0m \u001b[0;32mis\u001b[0m \u001b[0;32mnot\u001b[0m \u001b[0;32mNone\u001b[0m\u001b[0;34m:\u001b[0m\u001b[0;34m\u001b[0m\u001b[0;34m\u001b[0m\u001b[0m\n\u001b[1;32m    857\u001b[0m       \u001b[0;31m# Release the lock early so that multiple threads can perform the call\u001b[0m\u001b[0;34m\u001b[0m\u001b[0;34m\u001b[0m\u001b[0;34m\u001b[0m\u001b[0m\n",
      "\u001b[0;32m~/opt/anaconda3/lib/python3.8/site-packages/tensorflow/python/eager/function.py\u001b[0m in \u001b[0;36m__call__\u001b[0;34m(self, *args, **kwargs)\u001b[0m\n\u001b[1;32m   2940\u001b[0m       (graph_function,\n\u001b[1;32m   2941\u001b[0m        filtered_flat_args) = self._maybe_define_function(args, kwargs)\n\u001b[0;32m-> 2942\u001b[0;31m     return graph_function._call_flat(\n\u001b[0m\u001b[1;32m   2943\u001b[0m         filtered_flat_args, captured_inputs=graph_function.captured_inputs)  # pylint: disable=protected-access\n\u001b[1;32m   2944\u001b[0m \u001b[0;34m\u001b[0m\u001b[0m\n",
      "\u001b[0;32m~/opt/anaconda3/lib/python3.8/site-packages/tensorflow/python/eager/function.py\u001b[0m in \u001b[0;36m_call_flat\u001b[0;34m(self, args, captured_inputs, cancellation_manager)\u001b[0m\n\u001b[1;32m   1916\u001b[0m         and executing_eagerly):\n\u001b[1;32m   1917\u001b[0m       \u001b[0;31m# No tape is watching; skip to running the function.\u001b[0m\u001b[0;34m\u001b[0m\u001b[0;34m\u001b[0m\u001b[0;34m\u001b[0m\u001b[0m\n\u001b[0;32m-> 1918\u001b[0;31m       return self._build_call_outputs(self._inference_function.call(\n\u001b[0m\u001b[1;32m   1919\u001b[0m           ctx, args, cancellation_manager=cancellation_manager))\n\u001b[1;32m   1920\u001b[0m     forward_backward = self._select_forward_and_backward_functions(\n",
      "\u001b[0;32m~/opt/anaconda3/lib/python3.8/site-packages/tensorflow/python/eager/function.py\u001b[0m in \u001b[0;36mcall\u001b[0;34m(self, ctx, args, cancellation_manager)\u001b[0m\n\u001b[1;32m    553\u001b[0m       \u001b[0;32mwith\u001b[0m \u001b[0m_InterpolateFunctionError\u001b[0m\u001b[0;34m(\u001b[0m\u001b[0mself\u001b[0m\u001b[0;34m)\u001b[0m\u001b[0;34m:\u001b[0m\u001b[0;34m\u001b[0m\u001b[0;34m\u001b[0m\u001b[0m\n\u001b[1;32m    554\u001b[0m         \u001b[0;32mif\u001b[0m \u001b[0mcancellation_manager\u001b[0m \u001b[0;32mis\u001b[0m \u001b[0;32mNone\u001b[0m\u001b[0;34m:\u001b[0m\u001b[0;34m\u001b[0m\u001b[0;34m\u001b[0m\u001b[0m\n\u001b[0;32m--> 555\u001b[0;31m           outputs = execute.execute(\n\u001b[0m\u001b[1;32m    556\u001b[0m               \u001b[0mstr\u001b[0m\u001b[0;34m(\u001b[0m\u001b[0mself\u001b[0m\u001b[0;34m.\u001b[0m\u001b[0msignature\u001b[0m\u001b[0;34m.\u001b[0m\u001b[0mname\u001b[0m\u001b[0;34m)\u001b[0m\u001b[0;34m,\u001b[0m\u001b[0;34m\u001b[0m\u001b[0;34m\u001b[0m\u001b[0m\n\u001b[1;32m    557\u001b[0m               \u001b[0mnum_outputs\u001b[0m\u001b[0;34m=\u001b[0m\u001b[0mself\u001b[0m\u001b[0;34m.\u001b[0m\u001b[0m_num_outputs\u001b[0m\u001b[0;34m,\u001b[0m\u001b[0;34m\u001b[0m\u001b[0;34m\u001b[0m\u001b[0m\n",
      "\u001b[0;32m~/opt/anaconda3/lib/python3.8/site-packages/tensorflow/python/eager/execute.py\u001b[0m in \u001b[0;36mquick_execute\u001b[0;34m(op_name, num_outputs, inputs, attrs, ctx, name)\u001b[0m\n\u001b[1;32m     57\u001b[0m   \u001b[0;32mtry\u001b[0m\u001b[0;34m:\u001b[0m\u001b[0;34m\u001b[0m\u001b[0;34m\u001b[0m\u001b[0m\n\u001b[1;32m     58\u001b[0m     \u001b[0mctx\u001b[0m\u001b[0;34m.\u001b[0m\u001b[0mensure_initialized\u001b[0m\u001b[0;34m(\u001b[0m\u001b[0;34m)\u001b[0m\u001b[0;34m\u001b[0m\u001b[0;34m\u001b[0m\u001b[0m\n\u001b[0;32m---> 59\u001b[0;31m     tensors = pywrap_tfe.TFE_Py_Execute(ctx._handle, device_name, op_name,\n\u001b[0m\u001b[1;32m     60\u001b[0m                                         inputs, attrs, num_outputs)\n\u001b[1;32m     61\u001b[0m   \u001b[0;32mexcept\u001b[0m \u001b[0mcore\u001b[0m\u001b[0;34m.\u001b[0m\u001b[0m_NotOkStatusException\u001b[0m \u001b[0;32mas\u001b[0m \u001b[0me\u001b[0m\u001b[0;34m:\u001b[0m\u001b[0;34m\u001b[0m\u001b[0;34m\u001b[0m\u001b[0m\n",
      "\u001b[0;31mKeyboardInterrupt\u001b[0m: "
     ]
    }
   ],
   "source": [
    "modelll.fit(x_trainn_pad,y_trainn,validation_data=(x_testt_pad,y_testt),batch_size=64,epochs=5)"
   ]
  },
  {
   "cell_type": "code",
   "execution_count": null,
   "metadata": {},
   "outputs": [],
   "source": []
  }
 ],
 "metadata": {
  "kernelspec": {
   "display_name": "Python 3",
   "language": "python",
   "name": "python3"
  },
  "language_info": {
   "codemirror_mode": {
    "name": "ipython",
    "version": 3
   },
   "file_extension": ".py",
   "mimetype": "text/x-python",
   "name": "python",
   "nbconvert_exporter": "python",
   "pygments_lexer": "ipython3",
   "version": "3.8.5"
  }
 },
 "nbformat": 4,
 "nbformat_minor": 4
}
